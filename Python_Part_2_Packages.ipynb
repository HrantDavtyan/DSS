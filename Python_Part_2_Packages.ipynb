{
  "nbformat": 4,
  "nbformat_minor": 0,
  "metadata": {
    "colab": {
      "name": "DSS.ipynb",
      "version": "0.3.2",
      "provenance": [],
      "collapsed_sections": []
    },
    "kernelspec": {
      "name": "python3",
      "display_name": "Python 3"
    }
  },
  "cells": [
    {
      "cell_type": "markdown",
      "metadata": {
        "id": "BLaaPI7DvtWJ",
        "colab_type": "text"
      },
      "source": [
        "# Python for Data Science - Part II - Pacakges\n",
        "\n",
        "A pacakge (or a module or a library) is a piece of code with some specific functionality. In Python ecosystem, there are many packages specifically designed for data science workflow. Python's [standard library](\"https://docs.python.org/3/library/\") is installed with it. Many additional modules are available from [PyPI (the Python Package Index)](\"https://pypi.org/\").\n",
        "\n",
        "*   To install a package on machine, one must run the following command on the command prompt/terminal: **`pip install packagename1 pacakgename2 ...`** (or **`!pip install packagename1 packagename2`** inside Jupyter Notebook).  \n",
        "*   Packages need to be isntalled once on each computer, yet one has to always load them to be able to use the module functionality. The packages are loaded using the follwing Python code: **`import pacakgename1, packagename2`**.  Once imported, all the functionalty of the package will now be available to the user and should be called by explcitely specificying pacakgename in front.\n",
        "*   If the package has a long name, it is suggested to assign a shorter name for future usage:  **`import pacakgename1 as pkg1`**.\n",
        "\n",
        "Note: it is a good practice to import necessary modules in the top part of the code. Packages covered during this lecture are:\n",
        "\n",
        "\n",
        "*   [Pandas](https://pandas.pydata.org) - great tool for data manipulation, processing, preparation and description. Includes also several high-level functionalities for regression analysis, yet more suitable packages exist for this task (e.g. [statsmodels](http://statsmodels.sf.net/), [scikit-learn](http://scikit-learn.org/))\n",
        "*   [Matplotlib](https://matplotlib.org) - the standard data visualization tool in Python, which makes both easy and hard things possible. Matplotlib provides a MATLAB like interaface and fully customizable plots, yet it is not the choice for interactive plotting (packages such as [plotly](https://plot.ly/python/) or [bokeh](https://bokeh.pydata.org/en/latest/) are ued for interactive visualization in Python)\n",
        "*   [Seaborn](https://seaborn.pydata.org) - a high-level interface for statistical graphs, which is utilizing matplotlib in behind. As a result it is possible to customize seaborn plots using matplotlib instances.\n",
        "*   [Numpy](https://www.numpy.org) - a fundamental package for scientific computing in Python, which among all allows the cretion of multidimensional arrays and matrices. Many packages including Pandas are built on top of NumPy.\n",
        "\n"
      ]
    },
    {
      "cell_type": "code",
      "metadata": {
        "id": "eMq9MA_YRdkb",
        "colab_type": "code",
        "colab": {}
      },
      "source": [
        "import numpy as np\n",
        "import pandas as pd\n",
        "import matplotlib.pyplot as plt\n",
        "import seaborn as sns\n",
        "import scipy.stats as ss\n",
        "#scipy is not imported fully as the submodels should be imported separately"
      ],
      "execution_count": 0,
      "outputs": []
    },
    {
      "cell_type": "markdown",
      "metadata": {
        "id": "jpqYZ4trvxPz",
        "colab_type": "text"
      },
      "source": [
        "# Pandas: read, show, describe, write\n",
        "\n",
        "- [`pd.read_csv(\"filepath.csv\")`](https://pandas.pydata.org/pandas-docs/stable/reference/api/pandas.read_csv.html) - read a local or hosted csv file\n",
        "- [`pd.read_excel(\"filepath.xlsx\")`](https://pandas.pydata.org/pandas-docs/stable/reference/api/pandas.read_excel.html) - read a local or hosted MS Excel file\n",
        "- [`data.to_csv(\"filepath.csv\")`](https://pandas.pydata.org/pandas-docs/stable/reference/api/pandas.DataFrame.to_csv.html) - save the daraframe object as a CSV file\n",
        "- [`data.to_excel(\"filepath.xlsx\")`](https://pandas.pydata.org/pandas-docs/stable/reference/api/pandas.DataFrame.to_excel.html) - save the daraframe object as a MS Excel file\n",
        "- [`data.head(n=5)`](https://pandas.pydata.org/pandas-docs/stable/reference/api/pandas.DataFrame.head.html) - show the top n (in this case ) rows of the dataframe\n",
        "- [`data.tail(n=5)`](https://pandas.pydata.org/pandas-docs/stable/reference/api/pandas.DataFrame.head.html) - show the bottom n (in this case ) rows of the dataframe\n",
        "- [`data.shape`](https://pandas.pydata.org/pandas-docs/stable/reference/api/pandas.DataFrame.shape.html) - provides a tuple showing the dimensionality (number of rows and columns) of the dataframe\n",
        "- [`data.info()`](https://pandas.pydata.org/pandas-docs/stable/reference/api/pandas.DataFrame.info.html) - provides summarized information on the dataframe including the dimensons, data types and number of nonempty cells\n",
        "- [`data.count()`](https://pandas.pydata.org/pandas-docs/stable/reference/api/pandas.DataFrame.count.html) - produces a pandas Series with the count of nonempty cells in each column\n",
        "- [`min(),max(),mean(),mode(),median(),std(),var()`]() similar to count() produce a Series with the relevant columnwise operation\n",
        "- [`corr() and cov()`]() produce a correlation and variance/covariance matrix for the numerical columns of the DataFrame respectively.\n",
        "- [`data.info()`](https://pandas.pydata.org/pandas-docs/stable/reference/api/pandas.DataFrame.info.html) - provides summarized information on the dataframe including the dimensons, data types and number of nonempty cells"
      ]
    },
    {
      "cell_type": "code",
      "metadata": {
        "id": "FloX8NRTvswJ",
        "colab_type": "code",
        "colab": {}
      },
      "source": [
        "data=pd.read_csv(\"https://raw.githubusercontent.com/HrantDavtyan/DSS/master/car_data.csv\")\n",
        "#pd.read_excel(\"some_excel_file.xlsx\")"
      ],
      "execution_count": 0,
      "outputs": []
    },
    {
      "cell_type": "code",
      "metadata": {
        "id": "qxq-34LLE9wi",
        "colab_type": "code",
        "outputId": "94105d7b-f6ba-4ec8-fddb-6bcc5f73a245",
        "colab": {
          "base_uri": "https://localhost:8080/",
          "height": 210
        }
      },
      "source": [
        "data.head(n=3)"
      ],
      "execution_count": 0,
      "outputs": [
        {
          "output_type": "execute_result",
          "data": {
            "text/html": [
              "<div>\n",
              "<style scoped>\n",
              "    .dataframe tbody tr th:only-of-type {\n",
              "        vertical-align: middle;\n",
              "    }\n",
              "\n",
              "    .dataframe tbody tr th {\n",
              "        vertical-align: top;\n",
              "    }\n",
              "\n",
              "    .dataframe thead th {\n",
              "        text-align: right;\n",
              "    }\n",
              "</style>\n",
              "<table border=\"1\" class=\"dataframe\">\n",
              "  <thead>\n",
              "    <tr style=\"text-align: right;\">\n",
              "      <th></th>\n",
              "      <th>make</th>\n",
              "      <th>fuel_type</th>\n",
              "      <th>num_of_doors</th>\n",
              "      <th>body_style</th>\n",
              "      <th>drive_wheels</th>\n",
              "      <th>engine_location</th>\n",
              "      <th>wheel_base</th>\n",
              "      <th>length</th>\n",
              "      <th>width</th>\n",
              "      <th>height</th>\n",
              "      <th>curb_weight</th>\n",
              "      <th>engine_type</th>\n",
              "      <th>num_of_cylinders</th>\n",
              "      <th>engine_size</th>\n",
              "      <th>fuel_system</th>\n",
              "      <th>bore</th>\n",
              "      <th>stroke</th>\n",
              "      <th>compression_ratio</th>\n",
              "      <th>horsepower</th>\n",
              "      <th>peak_rpm</th>\n",
              "      <th>city_mpg</th>\n",
              "      <th>highway_mpg</th>\n",
              "      <th>price</th>\n",
              "    </tr>\n",
              "  </thead>\n",
              "  <tbody>\n",
              "    <tr>\n",
              "      <th>0</th>\n",
              "      <td>alfa-romero</td>\n",
              "      <td>gas</td>\n",
              "      <td>two</td>\n",
              "      <td>convertible</td>\n",
              "      <td>rwd</td>\n",
              "      <td>front</td>\n",
              "      <td>88.6</td>\n",
              "      <td>168.8</td>\n",
              "      <td>64.1</td>\n",
              "      <td>48.8</td>\n",
              "      <td>2548</td>\n",
              "      <td>dohc</td>\n",
              "      <td>four</td>\n",
              "      <td>130</td>\n",
              "      <td>mpfi</td>\n",
              "      <td>3.47</td>\n",
              "      <td>2.68</td>\n",
              "      <td>9.0</td>\n",
              "      <td>111</td>\n",
              "      <td>5000</td>\n",
              "      <td>21</td>\n",
              "      <td>27</td>\n",
              "      <td>13495</td>\n",
              "    </tr>\n",
              "    <tr>\n",
              "      <th>1</th>\n",
              "      <td>alfa-romero</td>\n",
              "      <td>gas</td>\n",
              "      <td>two</td>\n",
              "      <td>convertible</td>\n",
              "      <td>rwd</td>\n",
              "      <td>front</td>\n",
              "      <td>88.6</td>\n",
              "      <td>168.8</td>\n",
              "      <td>64.1</td>\n",
              "      <td>48.8</td>\n",
              "      <td>2548</td>\n",
              "      <td>dohc</td>\n",
              "      <td>four</td>\n",
              "      <td>130</td>\n",
              "      <td>mpfi</td>\n",
              "      <td>3.47</td>\n",
              "      <td>2.68</td>\n",
              "      <td>9.0</td>\n",
              "      <td>111</td>\n",
              "      <td>5000</td>\n",
              "      <td>21</td>\n",
              "      <td>27</td>\n",
              "      <td>16500</td>\n",
              "    </tr>\n",
              "    <tr>\n",
              "      <th>2</th>\n",
              "      <td>alfa-romero</td>\n",
              "      <td>gas</td>\n",
              "      <td>two</td>\n",
              "      <td>hatchback</td>\n",
              "      <td>rwd</td>\n",
              "      <td>front</td>\n",
              "      <td>94.5</td>\n",
              "      <td>171.2</td>\n",
              "      <td>65.5</td>\n",
              "      <td>52.4</td>\n",
              "      <td>2823</td>\n",
              "      <td>ohcv</td>\n",
              "      <td>six</td>\n",
              "      <td>152</td>\n",
              "      <td>mpfi</td>\n",
              "      <td>2.68</td>\n",
              "      <td>3.47</td>\n",
              "      <td>9.0</td>\n",
              "      <td>154</td>\n",
              "      <td>5000</td>\n",
              "      <td>19</td>\n",
              "      <td>26</td>\n",
              "      <td>16500</td>\n",
              "    </tr>\n",
              "  </tbody>\n",
              "</table>\n",
              "</div>"
            ],
            "text/plain": [
              "          make fuel_type num_of_doors  ... city_mpg highway_mpg  price\n",
              "0  alfa-romero       gas          two  ...       21          27  13495\n",
              "1  alfa-romero       gas          two  ...       21          27  16500\n",
              "2  alfa-romero       gas          two  ...       19          26  16500\n",
              "\n",
              "[3 rows x 23 columns]"
            ]
          },
          "metadata": {
            "tags": []
          },
          "execution_count": 3
        }
      ]
    },
    {
      "cell_type": "code",
      "metadata": {
        "id": "a3lm-SPyE9zX",
        "colab_type": "code",
        "outputId": "4fcc77f5-cf23-46ee-92a5-cc350ae0f1ce",
        "colab": {
          "base_uri": "https://localhost:8080/",
          "height": 158
        }
      },
      "source": [
        "data.tail(n=3)"
      ],
      "execution_count": 0,
      "outputs": [
        {
          "output_type": "execute_result",
          "data": {
            "text/html": [
              "<div>\n",
              "<style scoped>\n",
              "    .dataframe tbody tr th:only-of-type {\n",
              "        vertical-align: middle;\n",
              "    }\n",
              "\n",
              "    .dataframe tbody tr th {\n",
              "        vertical-align: top;\n",
              "    }\n",
              "\n",
              "    .dataframe thead th {\n",
              "        text-align: right;\n",
              "    }\n",
              "</style>\n",
              "<table border=\"1\" class=\"dataframe\">\n",
              "  <thead>\n",
              "    <tr style=\"text-align: right;\">\n",
              "      <th></th>\n",
              "      <th>make</th>\n",
              "      <th>fuel_type</th>\n",
              "      <th>num_of_doors</th>\n",
              "      <th>body_style</th>\n",
              "      <th>drive_wheels</th>\n",
              "      <th>engine_location</th>\n",
              "      <th>wheel_base</th>\n",
              "      <th>length</th>\n",
              "      <th>width</th>\n",
              "      <th>height</th>\n",
              "      <th>curb_weight</th>\n",
              "      <th>engine_type</th>\n",
              "      <th>num_of_cylinders</th>\n",
              "      <th>engine_size</th>\n",
              "      <th>fuel_system</th>\n",
              "      <th>bore</th>\n",
              "      <th>stroke</th>\n",
              "      <th>compression_ratio</th>\n",
              "      <th>horsepower</th>\n",
              "      <th>peak_rpm</th>\n",
              "      <th>city_mpg</th>\n",
              "      <th>highway_mpg</th>\n",
              "      <th>price</th>\n",
              "    </tr>\n",
              "  </thead>\n",
              "  <tbody>\n",
              "    <tr>\n",
              "      <th>190</th>\n",
              "      <td>volvo</td>\n",
              "      <td>gas</td>\n",
              "      <td>four</td>\n",
              "      <td>sedan</td>\n",
              "      <td>rwd</td>\n",
              "      <td>front</td>\n",
              "      <td>109.1</td>\n",
              "      <td>188.8</td>\n",
              "      <td>68.9</td>\n",
              "      <td>55.5</td>\n",
              "      <td>3012</td>\n",
              "      <td>ohcv</td>\n",
              "      <td>six</td>\n",
              "      <td>173</td>\n",
              "      <td>mpfi</td>\n",
              "      <td>3.58</td>\n",
              "      <td>2.87</td>\n",
              "      <td>8.8</td>\n",
              "      <td>134</td>\n",
              "      <td>5500</td>\n",
              "      <td>18</td>\n",
              "      <td>23</td>\n",
              "      <td>21485</td>\n",
              "    </tr>\n",
              "    <tr>\n",
              "      <th>191</th>\n",
              "      <td>volvo</td>\n",
              "      <td>diesel</td>\n",
              "      <td>four</td>\n",
              "      <td>sedan</td>\n",
              "      <td>rwd</td>\n",
              "      <td>front</td>\n",
              "      <td>109.1</td>\n",
              "      <td>188.8</td>\n",
              "      <td>68.9</td>\n",
              "      <td>55.5</td>\n",
              "      <td>3217</td>\n",
              "      <td>ohc</td>\n",
              "      <td>six</td>\n",
              "      <td>145</td>\n",
              "      <td>idi</td>\n",
              "      <td>3.01</td>\n",
              "      <td>3.40</td>\n",
              "      <td>23.0</td>\n",
              "      <td>106</td>\n",
              "      <td>4800</td>\n",
              "      <td>26</td>\n",
              "      <td>27</td>\n",
              "      <td>22470</td>\n",
              "    </tr>\n",
              "    <tr>\n",
              "      <th>192</th>\n",
              "      <td>volvo</td>\n",
              "      <td>gas</td>\n",
              "      <td>four</td>\n",
              "      <td>sedan</td>\n",
              "      <td>rwd</td>\n",
              "      <td>front</td>\n",
              "      <td>109.1</td>\n",
              "      <td>188.8</td>\n",
              "      <td>68.9</td>\n",
              "      <td>55.5</td>\n",
              "      <td>3062</td>\n",
              "      <td>ohc</td>\n",
              "      <td>four</td>\n",
              "      <td>141</td>\n",
              "      <td>mpfi</td>\n",
              "      <td>3.78</td>\n",
              "      <td>3.15</td>\n",
              "      <td>9.5</td>\n",
              "      <td>114</td>\n",
              "      <td>5400</td>\n",
              "      <td>19</td>\n",
              "      <td>25</td>\n",
              "      <td>22625</td>\n",
              "    </tr>\n",
              "  </tbody>\n",
              "</table>\n",
              "</div>"
            ],
            "text/plain": [
              "      make fuel_type num_of_doors  ... city_mpg highway_mpg  price\n",
              "190  volvo       gas         four  ...       18          23  21485\n",
              "191  volvo    diesel         four  ...       26          27  22470\n",
              "192  volvo       gas         four  ...       19          25  22625\n",
              "\n",
              "[3 rows x 23 columns]"
            ]
          },
          "metadata": {
            "tags": []
          },
          "execution_count": 4
        }
      ]
    },
    {
      "cell_type": "code",
      "metadata": {
        "id": "DGbYAmyzFJ3W",
        "colab_type": "code",
        "outputId": "750a6975-39f9-4e2b-f0bf-472f7d3d7bf9",
        "colab": {
          "base_uri": "https://localhost:8080/",
          "height": 35
        }
      },
      "source": [
        "data.shape"
      ],
      "execution_count": 0,
      "outputs": [
        {
          "output_type": "execute_result",
          "data": {
            "text/plain": [
              "(193, 23)"
            ]
          },
          "metadata": {
            "tags": []
          },
          "execution_count": 5
        }
      ]
    },
    {
      "cell_type": "code",
      "metadata": {
        "id": "OVg-9MR-FLLa",
        "colab_type": "code",
        "outputId": "aaccb1ff-7f7c-4775-8a59-841be77aabd2",
        "colab": {
          "base_uri": "https://localhost:8080/",
          "height": 526
        }
      },
      "source": [
        "data.info()"
      ],
      "execution_count": 0,
      "outputs": [
        {
          "output_type": "stream",
          "text": [
            "<class 'pandas.core.frame.DataFrame'>\n",
            "RangeIndex: 193 entries, 0 to 192\n",
            "Data columns (total 23 columns):\n",
            "make                 193 non-null object\n",
            "fuel_type            193 non-null object\n",
            "num_of_doors         193 non-null object\n",
            "body_style           193 non-null object\n",
            "drive_wheels         193 non-null object\n",
            "engine_location      193 non-null object\n",
            "wheel_base           193 non-null float64\n",
            "length               193 non-null float64\n",
            "width                193 non-null float64\n",
            "height               193 non-null float64\n",
            "curb_weight          193 non-null int64\n",
            "engine_type          193 non-null object\n",
            "num_of_cylinders     193 non-null object\n",
            "engine_size          193 non-null int64\n",
            "fuel_system          193 non-null object\n",
            "bore                 193 non-null float64\n",
            "stroke               193 non-null float64\n",
            "compression_ratio    193 non-null float64\n",
            "horsepower           193 non-null int64\n",
            "peak_rpm             193 non-null int64\n",
            "city_mpg             193 non-null int64\n",
            "highway_mpg          193 non-null int64\n",
            "price                193 non-null int64\n",
            "dtypes: float64(7), int64(7), object(9)\n",
            "memory usage: 34.8+ KB\n"
          ],
          "name": "stdout"
        }
      ]
    },
    {
      "cell_type": "code",
      "metadata": {
        "id": "fIJOzeuWFOE9",
        "colab_type": "code",
        "outputId": "c91de60f-111d-48d0-d4bd-f8daa2c2dc7e",
        "colab": {
          "base_uri": "https://localhost:8080/",
          "height": 454
        }
      },
      "source": [
        "data.count()\n",
        "#data.max()\n",
        "#data.min()\n",
        "#data.mean()\n",
        "#data.mode()\n",
        "#data.median()\n",
        "#data.std()\n",
        "#data.var()\n",
        "#data.corr()\n",
        "#data.cov()"
      ],
      "execution_count": 0,
      "outputs": [
        {
          "output_type": "execute_result",
          "data": {
            "text/plain": [
              "make                 193\n",
              "fuel_type            193\n",
              "num_of_doors         193\n",
              "body_style           193\n",
              "drive_wheels         193\n",
              "engine_location      193\n",
              "wheel_base           193\n",
              "length               193\n",
              "width                193\n",
              "height               193\n",
              "curb_weight          193\n",
              "engine_type          193\n",
              "num_of_cylinders     193\n",
              "engine_size          193\n",
              "fuel_system          193\n",
              "bore                 193\n",
              "stroke               193\n",
              "compression_ratio    193\n",
              "horsepower           193\n",
              "peak_rpm             193\n",
              "city_mpg             193\n",
              "highway_mpg          193\n",
              "price                193\n",
              "dtype: int64"
            ]
          },
          "metadata": {
            "tags": []
          },
          "execution_count": 7
        }
      ]
    },
    {
      "cell_type": "code",
      "metadata": {
        "id": "RQwC_UbWFPd0",
        "colab_type": "code",
        "outputId": "9a280ec0-0596-454d-980c-c87ee3452d1b",
        "colab": {
          "base_uri": "https://localhost:8080/",
          "height": 288
        }
      },
      "source": [
        "data.describe()"
      ],
      "execution_count": 0,
      "outputs": [
        {
          "output_type": "execute_result",
          "data": {
            "text/html": [
              "<div>\n",
              "<style scoped>\n",
              "    .dataframe tbody tr th:only-of-type {\n",
              "        vertical-align: middle;\n",
              "    }\n",
              "\n",
              "    .dataframe tbody tr th {\n",
              "        vertical-align: top;\n",
              "    }\n",
              "\n",
              "    .dataframe thead th {\n",
              "        text-align: right;\n",
              "    }\n",
              "</style>\n",
              "<table border=\"1\" class=\"dataframe\">\n",
              "  <thead>\n",
              "    <tr style=\"text-align: right;\">\n",
              "      <th></th>\n",
              "      <th>wheel_base</th>\n",
              "      <th>length</th>\n",
              "      <th>width</th>\n",
              "      <th>height</th>\n",
              "      <th>curb_weight</th>\n",
              "      <th>engine_size</th>\n",
              "      <th>bore</th>\n",
              "      <th>stroke</th>\n",
              "      <th>compression_ratio</th>\n",
              "      <th>horsepower</th>\n",
              "      <th>peak_rpm</th>\n",
              "      <th>city_mpg</th>\n",
              "      <th>highway_mpg</th>\n",
              "      <th>price</th>\n",
              "    </tr>\n",
              "  </thead>\n",
              "  <tbody>\n",
              "    <tr>\n",
              "      <th>count</th>\n",
              "      <td>193.000000</td>\n",
              "      <td>193.000000</td>\n",
              "      <td>193.000000</td>\n",
              "      <td>193.000000</td>\n",
              "      <td>193.000000</td>\n",
              "      <td>193.000000</td>\n",
              "      <td>193.000000</td>\n",
              "      <td>193.000000</td>\n",
              "      <td>193.000000</td>\n",
              "      <td>193.000000</td>\n",
              "      <td>193.000000</td>\n",
              "      <td>193.000000</td>\n",
              "      <td>193.000000</td>\n",
              "      <td>193.000000</td>\n",
              "    </tr>\n",
              "    <tr>\n",
              "      <th>mean</th>\n",
              "      <td>98.923834</td>\n",
              "      <td>174.326425</td>\n",
              "      <td>65.893782</td>\n",
              "      <td>53.869948</td>\n",
              "      <td>2561.507772</td>\n",
              "      <td>128.124352</td>\n",
              "      <td>3.330622</td>\n",
              "      <td>3.248860</td>\n",
              "      <td>10.143627</td>\n",
              "      <td>103.481865</td>\n",
              "      <td>5099.740933</td>\n",
              "      <td>25.326425</td>\n",
              "      <td>30.787565</td>\n",
              "      <td>13285.025907</td>\n",
              "    </tr>\n",
              "    <tr>\n",
              "      <th>std</th>\n",
              "      <td>6.152409</td>\n",
              "      <td>12.478593</td>\n",
              "      <td>2.137795</td>\n",
              "      <td>2.394770</td>\n",
              "      <td>526.700026</td>\n",
              "      <td>41.590452</td>\n",
              "      <td>0.272385</td>\n",
              "      <td>0.315421</td>\n",
              "      <td>3.977491</td>\n",
              "      <td>37.960107</td>\n",
              "      <td>468.694369</td>\n",
              "      <td>6.387828</td>\n",
              "      <td>6.816910</td>\n",
              "      <td>8089.082886</td>\n",
              "    </tr>\n",
              "    <tr>\n",
              "      <th>min</th>\n",
              "      <td>86.600000</td>\n",
              "      <td>141.100000</td>\n",
              "      <td>60.300000</td>\n",
              "      <td>47.800000</td>\n",
              "      <td>1488.000000</td>\n",
              "      <td>61.000000</td>\n",
              "      <td>2.540000</td>\n",
              "      <td>2.070000</td>\n",
              "      <td>7.000000</td>\n",
              "      <td>48.000000</td>\n",
              "      <td>4150.000000</td>\n",
              "      <td>13.000000</td>\n",
              "      <td>16.000000</td>\n",
              "      <td>5118.000000</td>\n",
              "    </tr>\n",
              "    <tr>\n",
              "      <th>25%</th>\n",
              "      <td>94.500000</td>\n",
              "      <td>166.300000</td>\n",
              "      <td>64.100000</td>\n",
              "      <td>52.000000</td>\n",
              "      <td>2145.000000</td>\n",
              "      <td>98.000000</td>\n",
              "      <td>3.150000</td>\n",
              "      <td>3.110000</td>\n",
              "      <td>8.500000</td>\n",
              "      <td>70.000000</td>\n",
              "      <td>4800.000000</td>\n",
              "      <td>19.000000</td>\n",
              "      <td>25.000000</td>\n",
              "      <td>7738.000000</td>\n",
              "    </tr>\n",
              "    <tr>\n",
              "      <th>50%</th>\n",
              "      <td>97.000000</td>\n",
              "      <td>173.200000</td>\n",
              "      <td>65.400000</td>\n",
              "      <td>54.100000</td>\n",
              "      <td>2414.000000</td>\n",
              "      <td>120.000000</td>\n",
              "      <td>3.310000</td>\n",
              "      <td>3.290000</td>\n",
              "      <td>9.000000</td>\n",
              "      <td>95.000000</td>\n",
              "      <td>5100.000000</td>\n",
              "      <td>25.000000</td>\n",
              "      <td>30.000000</td>\n",
              "      <td>10245.000000</td>\n",
              "    </tr>\n",
              "    <tr>\n",
              "      <th>75%</th>\n",
              "      <td>102.400000</td>\n",
              "      <td>184.600000</td>\n",
              "      <td>66.900000</td>\n",
              "      <td>55.700000</td>\n",
              "      <td>2952.000000</td>\n",
              "      <td>146.000000</td>\n",
              "      <td>3.590000</td>\n",
              "      <td>3.410000</td>\n",
              "      <td>9.400000</td>\n",
              "      <td>116.000000</td>\n",
              "      <td>5500.000000</td>\n",
              "      <td>30.000000</td>\n",
              "      <td>34.000000</td>\n",
              "      <td>16515.000000</td>\n",
              "    </tr>\n",
              "    <tr>\n",
              "      <th>max</th>\n",
              "      <td>120.900000</td>\n",
              "      <td>208.100000</td>\n",
              "      <td>72.000000</td>\n",
              "      <td>59.800000</td>\n",
              "      <td>4066.000000</td>\n",
              "      <td>326.000000</td>\n",
              "      <td>3.940000</td>\n",
              "      <td>4.170000</td>\n",
              "      <td>23.000000</td>\n",
              "      <td>262.000000</td>\n",
              "      <td>6600.000000</td>\n",
              "      <td>49.000000</td>\n",
              "      <td>54.000000</td>\n",
              "      <td>45400.000000</td>\n",
              "    </tr>\n",
              "  </tbody>\n",
              "</table>\n",
              "</div>"
            ],
            "text/plain": [
              "       wheel_base      length  ...  highway_mpg         price\n",
              "count  193.000000  193.000000  ...   193.000000    193.000000\n",
              "mean    98.923834  174.326425  ...    30.787565  13285.025907\n",
              "std      6.152409   12.478593  ...     6.816910   8089.082886\n",
              "min     86.600000  141.100000  ...    16.000000   5118.000000\n",
              "25%     94.500000  166.300000  ...    25.000000   7738.000000\n",
              "50%     97.000000  173.200000  ...    30.000000  10245.000000\n",
              "75%    102.400000  184.600000  ...    34.000000  16515.000000\n",
              "max    120.900000  208.100000  ...    54.000000  45400.000000\n",
              "\n",
              "[8 rows x 14 columns]"
            ]
          },
          "metadata": {
            "tags": []
          },
          "execution_count": 8
        }
      ]
    },
    {
      "cell_type": "markdown",
      "metadata": {
        "id": "JM5zbDuOvs6c",
        "colab_type": "text"
      },
      "source": [
        "# Pandas: subsetting, droping, reindexing, renaming\n",
        "\n",
        "- [data.column_name and data[\"column_name\"]]() allow to select a single column from a DataFrame\n",
        "- data[ [\"column_1\",\"column_2\"] ] allows to subset several (in this case two) columns from the DataFrame\n",
        "- [data.iloc[]]() - allows subsetting rows and columns of a  DataFrame using indicies\n",
        "- [data.loc[]]() - allows subsetting rows and columns both with indecies and labels\n",
        "- [data[]]() and data.loc[] support subsettin with logical (conditional) statements"
      ]
    },
    {
      "cell_type": "code",
      "metadata": {
        "id": "GBA80MAbvyar",
        "colab_type": "code",
        "outputId": "af18c641-4ea7-4da6-add5-e2b628a80140",
        "colab": {
          "base_uri": "https://localhost:8080/",
          "height": 126
        }
      },
      "source": [
        "data.make.head()"
      ],
      "execution_count": 0,
      "outputs": [
        {
          "output_type": "execute_result",
          "data": {
            "text/plain": [
              "0    alfa-romero\n",
              "1    alfa-romero\n",
              "2    alfa-romero\n",
              "3           audi\n",
              "4           audi\n",
              "Name: make, dtype: object"
            ]
          },
          "metadata": {
            "tags": []
          },
          "execution_count": 9
        }
      ]
    },
    {
      "cell_type": "code",
      "metadata": {
        "id": "rlLyBbzeNcUJ",
        "colab_type": "code",
        "outputId": "509487b8-7607-4969-eb3e-3bed4d714f06",
        "colab": {
          "base_uri": "https://localhost:8080/",
          "height": 126
        }
      },
      "source": [
        "data[\"make\"].head()"
      ],
      "execution_count": 0,
      "outputs": [
        {
          "output_type": "execute_result",
          "data": {
            "text/plain": [
              "0    alfa-romero\n",
              "1    alfa-romero\n",
              "2    alfa-romero\n",
              "3           audi\n",
              "4           audi\n",
              "Name: make, dtype: object"
            ]
          },
          "metadata": {
            "tags": []
          },
          "execution_count": 10
        }
      ]
    },
    {
      "cell_type": "code",
      "metadata": {
        "id": "7ei6wEpLNelW",
        "colab_type": "code",
        "outputId": "f072f432-663f-4b23-d0e2-f6fe04610f25",
        "colab": {
          "base_uri": "https://localhost:8080/",
          "height": 198
        }
      },
      "source": [
        "data[[\"make\",\"price\"]].head()"
      ],
      "execution_count": 0,
      "outputs": [
        {
          "output_type": "execute_result",
          "data": {
            "text/html": [
              "<div>\n",
              "<style scoped>\n",
              "    .dataframe tbody tr th:only-of-type {\n",
              "        vertical-align: middle;\n",
              "    }\n",
              "\n",
              "    .dataframe tbody tr th {\n",
              "        vertical-align: top;\n",
              "    }\n",
              "\n",
              "    .dataframe thead th {\n",
              "        text-align: right;\n",
              "    }\n",
              "</style>\n",
              "<table border=\"1\" class=\"dataframe\">\n",
              "  <thead>\n",
              "    <tr style=\"text-align: right;\">\n",
              "      <th></th>\n",
              "      <th>make</th>\n",
              "      <th>price</th>\n",
              "    </tr>\n",
              "  </thead>\n",
              "  <tbody>\n",
              "    <tr>\n",
              "      <th>0</th>\n",
              "      <td>alfa-romero</td>\n",
              "      <td>13495</td>\n",
              "    </tr>\n",
              "    <tr>\n",
              "      <th>1</th>\n",
              "      <td>alfa-romero</td>\n",
              "      <td>16500</td>\n",
              "    </tr>\n",
              "    <tr>\n",
              "      <th>2</th>\n",
              "      <td>alfa-romero</td>\n",
              "      <td>16500</td>\n",
              "    </tr>\n",
              "    <tr>\n",
              "      <th>3</th>\n",
              "      <td>audi</td>\n",
              "      <td>13950</td>\n",
              "    </tr>\n",
              "    <tr>\n",
              "      <th>4</th>\n",
              "      <td>audi</td>\n",
              "      <td>17450</td>\n",
              "    </tr>\n",
              "  </tbody>\n",
              "</table>\n",
              "</div>"
            ],
            "text/plain": [
              "          make  price\n",
              "0  alfa-romero  13495\n",
              "1  alfa-romero  16500\n",
              "2  alfa-romero  16500\n",
              "3         audi  13950\n",
              "4         audi  17450"
            ]
          },
          "metadata": {
            "tags": []
          },
          "execution_count": 11
        }
      ]
    },
    {
      "cell_type": "code",
      "metadata": {
        "id": "rBLmc7hFNy8d",
        "colab_type": "code",
        "outputId": "f6fe176b-24d4-44d2-f084-a9894a068eb5",
        "colab": {
          "base_uri": "https://localhost:8080/",
          "height": 198
        }
      },
      "source": [
        "data.iloc[0:5,[0,-1]]"
      ],
      "execution_count": 0,
      "outputs": [
        {
          "output_type": "execute_result",
          "data": {
            "text/html": [
              "<div>\n",
              "<style scoped>\n",
              "    .dataframe tbody tr th:only-of-type {\n",
              "        vertical-align: middle;\n",
              "    }\n",
              "\n",
              "    .dataframe tbody tr th {\n",
              "        vertical-align: top;\n",
              "    }\n",
              "\n",
              "    .dataframe thead th {\n",
              "        text-align: right;\n",
              "    }\n",
              "</style>\n",
              "<table border=\"1\" class=\"dataframe\">\n",
              "  <thead>\n",
              "    <tr style=\"text-align: right;\">\n",
              "      <th></th>\n",
              "      <th>make</th>\n",
              "      <th>price</th>\n",
              "    </tr>\n",
              "  </thead>\n",
              "  <tbody>\n",
              "    <tr>\n",
              "      <th>0</th>\n",
              "      <td>alfa-romero</td>\n",
              "      <td>13495</td>\n",
              "    </tr>\n",
              "    <tr>\n",
              "      <th>1</th>\n",
              "      <td>alfa-romero</td>\n",
              "      <td>16500</td>\n",
              "    </tr>\n",
              "    <tr>\n",
              "      <th>2</th>\n",
              "      <td>alfa-romero</td>\n",
              "      <td>16500</td>\n",
              "    </tr>\n",
              "    <tr>\n",
              "      <th>3</th>\n",
              "      <td>audi</td>\n",
              "      <td>13950</td>\n",
              "    </tr>\n",
              "    <tr>\n",
              "      <th>4</th>\n",
              "      <td>audi</td>\n",
              "      <td>17450</td>\n",
              "    </tr>\n",
              "  </tbody>\n",
              "</table>\n",
              "</div>"
            ],
            "text/plain": [
              "          make  price\n",
              "0  alfa-romero  13495\n",
              "1  alfa-romero  16500\n",
              "2  alfa-romero  16500\n",
              "3         audi  13950\n",
              "4         audi  17450"
            ]
          },
          "metadata": {
            "tags": []
          },
          "execution_count": 12
        }
      ]
    },
    {
      "cell_type": "code",
      "metadata": {
        "id": "gO3Hn9VoNsiK",
        "colab_type": "code",
        "outputId": "941ec03f-f88b-4370-f2a9-4a300def82d2",
        "colab": {
          "base_uri": "https://localhost:8080/",
          "height": 198
        }
      },
      "source": [
        "data.loc[0:4,[\"make\",\"price\"]]"
      ],
      "execution_count": 0,
      "outputs": [
        {
          "output_type": "execute_result",
          "data": {
            "text/html": [
              "<div>\n",
              "<style scoped>\n",
              "    .dataframe tbody tr th:only-of-type {\n",
              "        vertical-align: middle;\n",
              "    }\n",
              "\n",
              "    .dataframe tbody tr th {\n",
              "        vertical-align: top;\n",
              "    }\n",
              "\n",
              "    .dataframe thead th {\n",
              "        text-align: right;\n",
              "    }\n",
              "</style>\n",
              "<table border=\"1\" class=\"dataframe\">\n",
              "  <thead>\n",
              "    <tr style=\"text-align: right;\">\n",
              "      <th></th>\n",
              "      <th>make</th>\n",
              "      <th>price</th>\n",
              "    </tr>\n",
              "  </thead>\n",
              "  <tbody>\n",
              "    <tr>\n",
              "      <th>0</th>\n",
              "      <td>alfa-romero</td>\n",
              "      <td>13495</td>\n",
              "    </tr>\n",
              "    <tr>\n",
              "      <th>1</th>\n",
              "      <td>alfa-romero</td>\n",
              "      <td>16500</td>\n",
              "    </tr>\n",
              "    <tr>\n",
              "      <th>2</th>\n",
              "      <td>alfa-romero</td>\n",
              "      <td>16500</td>\n",
              "    </tr>\n",
              "    <tr>\n",
              "      <th>3</th>\n",
              "      <td>audi</td>\n",
              "      <td>13950</td>\n",
              "    </tr>\n",
              "    <tr>\n",
              "      <th>4</th>\n",
              "      <td>audi</td>\n",
              "      <td>17450</td>\n",
              "    </tr>\n",
              "  </tbody>\n",
              "</table>\n",
              "</div>"
            ],
            "text/plain": [
              "          make  price\n",
              "0  alfa-romero  13495\n",
              "1  alfa-romero  16500\n",
              "2  alfa-romero  16500\n",
              "3         audi  13950\n",
              "4         audi  17450"
            ]
          },
          "metadata": {
            "tags": []
          },
          "execution_count": 13
        }
      ]
    },
    {
      "cell_type": "code",
      "metadata": {
        "id": "vW6RRqzHYL7Z",
        "colab_type": "code",
        "outputId": "aa7cee58-c2e6-49d8-c38f-784563da2eec",
        "colab": {
          "base_uri": "https://localhost:8080/",
          "height": 145
        }
      },
      "source": [
        "data.price[data.make==\"audi\"]"
      ],
      "execution_count": 0,
      "outputs": [
        {
          "output_type": "execute_result",
          "data": {
            "text/plain": [
              "3    13950\n",
              "4    17450\n",
              "5    15250\n",
              "6    17710\n",
              "7    18920\n",
              "8    23875\n",
              "Name: price, dtype: int64"
            ]
          },
          "metadata": {
            "tags": []
          },
          "execution_count": 14
        }
      ]
    },
    {
      "cell_type": "code",
      "metadata": {
        "id": "kOvwBfjPYm_t",
        "colab_type": "code",
        "outputId": "eb205ee7-c87c-44c6-8f85-df1e296fc1c4",
        "colab": {
          "base_uri": "https://localhost:8080/",
          "height": 145
        }
      },
      "source": [
        "data.loc[data.make==\"audi\",\"price\"]"
      ],
      "execution_count": 0,
      "outputs": [
        {
          "output_type": "execute_result",
          "data": {
            "text/plain": [
              "3    13950\n",
              "4    17450\n",
              "5    15250\n",
              "6    17710\n",
              "7    18920\n",
              "8    23875\n",
              "Name: price, dtype: int64"
            ]
          },
          "metadata": {
            "tags": []
          },
          "execution_count": 15
        }
      ]
    },
    {
      "cell_type": "code",
      "metadata": {
        "id": "lTWsrkgcYw5n",
        "colab_type": "code",
        "outputId": "9b2c4e4c-7fbe-4171-ddfe-97d3efa0ed6f",
        "colab": {
          "base_uri": "https://localhost:8080/",
          "height": 468
        }
      },
      "source": [
        "data.loc[(data.make==\"audi\") | (data.make==\"bmw\"),[\"make\",\"price\"]]"
      ],
      "execution_count": 0,
      "outputs": [
        {
          "output_type": "execute_result",
          "data": {
            "text/html": [
              "<div>\n",
              "<style scoped>\n",
              "    .dataframe tbody tr th:only-of-type {\n",
              "        vertical-align: middle;\n",
              "    }\n",
              "\n",
              "    .dataframe tbody tr th {\n",
              "        vertical-align: top;\n",
              "    }\n",
              "\n",
              "    .dataframe thead th {\n",
              "        text-align: right;\n",
              "    }\n",
              "</style>\n",
              "<table border=\"1\" class=\"dataframe\">\n",
              "  <thead>\n",
              "    <tr style=\"text-align: right;\">\n",
              "      <th></th>\n",
              "      <th>make</th>\n",
              "      <th>price</th>\n",
              "    </tr>\n",
              "  </thead>\n",
              "  <tbody>\n",
              "    <tr>\n",
              "      <th>3</th>\n",
              "      <td>audi</td>\n",
              "      <td>13950</td>\n",
              "    </tr>\n",
              "    <tr>\n",
              "      <th>4</th>\n",
              "      <td>audi</td>\n",
              "      <td>17450</td>\n",
              "    </tr>\n",
              "    <tr>\n",
              "      <th>5</th>\n",
              "      <td>audi</td>\n",
              "      <td>15250</td>\n",
              "    </tr>\n",
              "    <tr>\n",
              "      <th>6</th>\n",
              "      <td>audi</td>\n",
              "      <td>17710</td>\n",
              "    </tr>\n",
              "    <tr>\n",
              "      <th>7</th>\n",
              "      <td>audi</td>\n",
              "      <td>18920</td>\n",
              "    </tr>\n",
              "    <tr>\n",
              "      <th>8</th>\n",
              "      <td>audi</td>\n",
              "      <td>23875</td>\n",
              "    </tr>\n",
              "    <tr>\n",
              "      <th>9</th>\n",
              "      <td>bmw</td>\n",
              "      <td>16430</td>\n",
              "    </tr>\n",
              "    <tr>\n",
              "      <th>10</th>\n",
              "      <td>bmw</td>\n",
              "      <td>16925</td>\n",
              "    </tr>\n",
              "    <tr>\n",
              "      <th>11</th>\n",
              "      <td>bmw</td>\n",
              "      <td>20970</td>\n",
              "    </tr>\n",
              "    <tr>\n",
              "      <th>12</th>\n",
              "      <td>bmw</td>\n",
              "      <td>21105</td>\n",
              "    </tr>\n",
              "    <tr>\n",
              "      <th>13</th>\n",
              "      <td>bmw</td>\n",
              "      <td>24565</td>\n",
              "    </tr>\n",
              "    <tr>\n",
              "      <th>14</th>\n",
              "      <td>bmw</td>\n",
              "      <td>30760</td>\n",
              "    </tr>\n",
              "    <tr>\n",
              "      <th>15</th>\n",
              "      <td>bmw</td>\n",
              "      <td>41315</td>\n",
              "    </tr>\n",
              "    <tr>\n",
              "      <th>16</th>\n",
              "      <td>bmw</td>\n",
              "      <td>36880</td>\n",
              "    </tr>\n",
              "  </tbody>\n",
              "</table>\n",
              "</div>"
            ],
            "text/plain": [
              "    make  price\n",
              "3   audi  13950\n",
              "4   audi  17450\n",
              "5   audi  15250\n",
              "6   audi  17710\n",
              "7   audi  18920\n",
              "8   audi  23875\n",
              "9    bmw  16430\n",
              "10   bmw  16925\n",
              "11   bmw  20970\n",
              "12   bmw  21105\n",
              "13   bmw  24565\n",
              "14   bmw  30760\n",
              "15   bmw  41315\n",
              "16   bmw  36880"
            ]
          },
          "metadata": {
            "tags": []
          },
          "execution_count": 16
        }
      ]
    },
    {
      "cell_type": "markdown",
      "metadata": {
        "id": "YU4znpPzw2lc",
        "colab_type": "text"
      },
      "source": [
        "# Pandas: dataframe, merge, join, concatenate\n",
        "- [DataFrame()](https://pandas.pydata.org/pandas-docs/stable/reference/api/pandas.DataFrame.html) - create a dataframe by suppliying data and column names as an input (can be done using dictionaries)\n",
        "- [copy()](https://pandas.pydata.org/pandas-docs/stable/reference/api/pandas.DataFrame.copy.html) - copies the DataFrame\n",
        "- [concat()](https://pandas.pydata.org/pandas-docs/stable/reference/api/pandas.concat.html) - append one dataframe below the other (or sideways), takes list of dataframes as an input\n",
        "- [join()](https://pandas.pydata.org/pandas-docs/stable/reference/api/pandas.DataFrame.join.html) - merge two dataframes based on index (can as well be done with merge(left_index=True))\n",
        "- [merge()](https://pandas.pydata.org/pandas-docs/stable/reference/api/pandas.DataFrame.merge.html) - merge (inner, outer, left, right) two dataframe using a common (or prespecified) column or the index as the key"
      ]
    },
    {
      "cell_type": "code",
      "metadata": {
        "id": "-OaCfXlzw24X",
        "colab_type": "code",
        "outputId": "15b3c235-e55a-45b4-c0b9-e4ed5896c764",
        "colab": {
          "base_uri": "https://localhost:8080/",
          "height": 108
        }
      },
      "source": [
        "my_dict = {\"make\":[\"audi\",\"bmw\"],\"rating\":[5,4]}\n",
        "df1 = pd.DataFrame(my_dict)\n",
        "df1.head()"
      ],
      "execution_count": 0,
      "outputs": [
        {
          "output_type": "execute_result",
          "data": {
            "text/html": [
              "<div>\n",
              "<style scoped>\n",
              "    .dataframe tbody tr th:only-of-type {\n",
              "        vertical-align: middle;\n",
              "    }\n",
              "\n",
              "    .dataframe tbody tr th {\n",
              "        vertical-align: top;\n",
              "    }\n",
              "\n",
              "    .dataframe thead th {\n",
              "        text-align: right;\n",
              "    }\n",
              "</style>\n",
              "<table border=\"1\" class=\"dataframe\">\n",
              "  <thead>\n",
              "    <tr style=\"text-align: right;\">\n",
              "      <th></th>\n",
              "      <th>make</th>\n",
              "      <th>rating</th>\n",
              "    </tr>\n",
              "  </thead>\n",
              "  <tbody>\n",
              "    <tr>\n",
              "      <th>0</th>\n",
              "      <td>audi</td>\n",
              "      <td>5</td>\n",
              "    </tr>\n",
              "    <tr>\n",
              "      <th>1</th>\n",
              "      <td>bmw</td>\n",
              "      <td>4</td>\n",
              "    </tr>\n",
              "  </tbody>\n",
              "</table>\n",
              "</div>"
            ],
            "text/plain": [
              "   make  rating\n",
              "0  audi       5\n",
              "1   bmw       4"
            ]
          },
          "metadata": {
            "tags": []
          },
          "execution_count": 17
        }
      ]
    },
    {
      "cell_type": "code",
      "metadata": {
        "id": "hdm421G_JM3S",
        "colab_type": "code",
        "colab": {}
      },
      "source": [
        "df2 = df1.copy()"
      ],
      "execution_count": 0,
      "outputs": []
    },
    {
      "cell_type": "code",
      "metadata": {
        "id": "5eCPYInlJPlT",
        "colab_type": "code",
        "outputId": "82842698-e09b-4273-fd62-6a036e1c03b2",
        "colab": {
          "base_uri": "https://localhost:8080/",
          "height": 168
        }
      },
      "source": [
        "pd.concat([df1,df2],axis=0)"
      ],
      "execution_count": 0,
      "outputs": [
        {
          "output_type": "execute_result",
          "data": {
            "text/html": [
              "<div>\n",
              "<style scoped>\n",
              "    .dataframe tbody tr th:only-of-type {\n",
              "        vertical-align: middle;\n",
              "    }\n",
              "\n",
              "    .dataframe tbody tr th {\n",
              "        vertical-align: top;\n",
              "    }\n",
              "\n",
              "    .dataframe thead th {\n",
              "        text-align: right;\n",
              "    }\n",
              "</style>\n",
              "<table border=\"1\" class=\"dataframe\">\n",
              "  <thead>\n",
              "    <tr style=\"text-align: right;\">\n",
              "      <th></th>\n",
              "      <th>make</th>\n",
              "      <th>rating</th>\n",
              "    </tr>\n",
              "  </thead>\n",
              "  <tbody>\n",
              "    <tr>\n",
              "      <th>0</th>\n",
              "      <td>audi</td>\n",
              "      <td>5</td>\n",
              "    </tr>\n",
              "    <tr>\n",
              "      <th>1</th>\n",
              "      <td>bmw</td>\n",
              "      <td>4</td>\n",
              "    </tr>\n",
              "    <tr>\n",
              "      <th>0</th>\n",
              "      <td>audi</td>\n",
              "      <td>5</td>\n",
              "    </tr>\n",
              "    <tr>\n",
              "      <th>1</th>\n",
              "      <td>bmw</td>\n",
              "      <td>4</td>\n",
              "    </tr>\n",
              "  </tbody>\n",
              "</table>\n",
              "</div>"
            ],
            "text/plain": [
              "   make  rating\n",
              "0  audi       5\n",
              "1   bmw       4\n",
              "0  audi       5\n",
              "1   bmw       4"
            ]
          },
          "metadata": {
            "tags": []
          },
          "execution_count": 19
        }
      ]
    },
    {
      "cell_type": "code",
      "metadata": {
        "id": "2M-7GUJPJUIj",
        "colab_type": "code",
        "outputId": "60cd0142-afdd-4af7-8186-db15a03e7b3f",
        "colab": {
          "base_uri": "https://localhost:8080/",
          "height": 108
        }
      },
      "source": [
        "pd.concat([df1,df2],axis=1)"
      ],
      "execution_count": 0,
      "outputs": [
        {
          "output_type": "execute_result",
          "data": {
            "text/html": [
              "<div>\n",
              "<style scoped>\n",
              "    .dataframe tbody tr th:only-of-type {\n",
              "        vertical-align: middle;\n",
              "    }\n",
              "\n",
              "    .dataframe tbody tr th {\n",
              "        vertical-align: top;\n",
              "    }\n",
              "\n",
              "    .dataframe thead th {\n",
              "        text-align: right;\n",
              "    }\n",
              "</style>\n",
              "<table border=\"1\" class=\"dataframe\">\n",
              "  <thead>\n",
              "    <tr style=\"text-align: right;\">\n",
              "      <th></th>\n",
              "      <th>make</th>\n",
              "      <th>rating</th>\n",
              "      <th>make</th>\n",
              "      <th>rating</th>\n",
              "    </tr>\n",
              "  </thead>\n",
              "  <tbody>\n",
              "    <tr>\n",
              "      <th>0</th>\n",
              "      <td>audi</td>\n",
              "      <td>5</td>\n",
              "      <td>audi</td>\n",
              "      <td>5</td>\n",
              "    </tr>\n",
              "    <tr>\n",
              "      <th>1</th>\n",
              "      <td>bmw</td>\n",
              "      <td>4</td>\n",
              "      <td>bmw</td>\n",
              "      <td>4</td>\n",
              "    </tr>\n",
              "  </tbody>\n",
              "</table>\n",
              "</div>"
            ],
            "text/plain": [
              "   make  rating  make  rating\n",
              "0  audi       5  audi       5\n",
              "1   bmw       4   bmw       4"
            ]
          },
          "metadata": {
            "tags": []
          },
          "execution_count": 20
        }
      ]
    },
    {
      "cell_type": "code",
      "metadata": {
        "id": "HkAQ_CEjcy7c",
        "colab_type": "code",
        "outputId": "6bf36e00-a4f3-4dc8-cb8a-b8b83f5369de",
        "colab": {
          "base_uri": "https://localhost:8080/",
          "height": 218
        }
      },
      "source": [
        "data.merge(df1,how=\"inner\").head()"
      ],
      "execution_count": 0,
      "outputs": [
        {
          "output_type": "execute_result",
          "data": {
            "text/html": [
              "<div>\n",
              "<style scoped>\n",
              "    .dataframe tbody tr th:only-of-type {\n",
              "        vertical-align: middle;\n",
              "    }\n",
              "\n",
              "    .dataframe tbody tr th {\n",
              "        vertical-align: top;\n",
              "    }\n",
              "\n",
              "    .dataframe thead th {\n",
              "        text-align: right;\n",
              "    }\n",
              "</style>\n",
              "<table border=\"1\" class=\"dataframe\">\n",
              "  <thead>\n",
              "    <tr style=\"text-align: right;\">\n",
              "      <th></th>\n",
              "      <th>make</th>\n",
              "      <th>fuel_type</th>\n",
              "      <th>num_of_doors</th>\n",
              "      <th>body_style</th>\n",
              "      <th>drive_wheels</th>\n",
              "      <th>engine_location</th>\n",
              "      <th>wheel_base</th>\n",
              "      <th>length</th>\n",
              "      <th>width</th>\n",
              "      <th>height</th>\n",
              "      <th>curb_weight</th>\n",
              "      <th>engine_type</th>\n",
              "      <th>num_of_cylinders</th>\n",
              "      <th>engine_size</th>\n",
              "      <th>fuel_system</th>\n",
              "      <th>bore</th>\n",
              "      <th>stroke</th>\n",
              "      <th>compression_ratio</th>\n",
              "      <th>horsepower</th>\n",
              "      <th>peak_rpm</th>\n",
              "      <th>city_mpg</th>\n",
              "      <th>highway_mpg</th>\n",
              "      <th>price</th>\n",
              "      <th>rating</th>\n",
              "    </tr>\n",
              "  </thead>\n",
              "  <tbody>\n",
              "    <tr>\n",
              "      <th>0</th>\n",
              "      <td>audi</td>\n",
              "      <td>gas</td>\n",
              "      <td>four</td>\n",
              "      <td>sedan</td>\n",
              "      <td>fwd</td>\n",
              "      <td>front</td>\n",
              "      <td>99.8</td>\n",
              "      <td>176.6</td>\n",
              "      <td>66.2</td>\n",
              "      <td>54.3</td>\n",
              "      <td>2337</td>\n",
              "      <td>ohc</td>\n",
              "      <td>four</td>\n",
              "      <td>109</td>\n",
              "      <td>mpfi</td>\n",
              "      <td>3.19</td>\n",
              "      <td>3.4</td>\n",
              "      <td>10.0</td>\n",
              "      <td>102</td>\n",
              "      <td>5500</td>\n",
              "      <td>24</td>\n",
              "      <td>30</td>\n",
              "      <td>13950</td>\n",
              "      <td>5</td>\n",
              "    </tr>\n",
              "    <tr>\n",
              "      <th>1</th>\n",
              "      <td>audi</td>\n",
              "      <td>gas</td>\n",
              "      <td>four</td>\n",
              "      <td>sedan</td>\n",
              "      <td>4wd</td>\n",
              "      <td>front</td>\n",
              "      <td>99.4</td>\n",
              "      <td>176.6</td>\n",
              "      <td>66.4</td>\n",
              "      <td>54.3</td>\n",
              "      <td>2824</td>\n",
              "      <td>ohc</td>\n",
              "      <td>five</td>\n",
              "      <td>136</td>\n",
              "      <td>mpfi</td>\n",
              "      <td>3.19</td>\n",
              "      <td>3.4</td>\n",
              "      <td>8.0</td>\n",
              "      <td>115</td>\n",
              "      <td>5500</td>\n",
              "      <td>18</td>\n",
              "      <td>22</td>\n",
              "      <td>17450</td>\n",
              "      <td>5</td>\n",
              "    </tr>\n",
              "    <tr>\n",
              "      <th>2</th>\n",
              "      <td>audi</td>\n",
              "      <td>gas</td>\n",
              "      <td>two</td>\n",
              "      <td>sedan</td>\n",
              "      <td>fwd</td>\n",
              "      <td>front</td>\n",
              "      <td>99.8</td>\n",
              "      <td>177.3</td>\n",
              "      <td>66.3</td>\n",
              "      <td>53.1</td>\n",
              "      <td>2507</td>\n",
              "      <td>ohc</td>\n",
              "      <td>five</td>\n",
              "      <td>136</td>\n",
              "      <td>mpfi</td>\n",
              "      <td>3.19</td>\n",
              "      <td>3.4</td>\n",
              "      <td>8.5</td>\n",
              "      <td>110</td>\n",
              "      <td>5500</td>\n",
              "      <td>19</td>\n",
              "      <td>25</td>\n",
              "      <td>15250</td>\n",
              "      <td>5</td>\n",
              "    </tr>\n",
              "    <tr>\n",
              "      <th>3</th>\n",
              "      <td>audi</td>\n",
              "      <td>gas</td>\n",
              "      <td>four</td>\n",
              "      <td>sedan</td>\n",
              "      <td>fwd</td>\n",
              "      <td>front</td>\n",
              "      <td>105.8</td>\n",
              "      <td>192.7</td>\n",
              "      <td>71.4</td>\n",
              "      <td>55.7</td>\n",
              "      <td>2844</td>\n",
              "      <td>ohc</td>\n",
              "      <td>five</td>\n",
              "      <td>136</td>\n",
              "      <td>mpfi</td>\n",
              "      <td>3.19</td>\n",
              "      <td>3.4</td>\n",
              "      <td>8.5</td>\n",
              "      <td>110</td>\n",
              "      <td>5500</td>\n",
              "      <td>19</td>\n",
              "      <td>25</td>\n",
              "      <td>17710</td>\n",
              "      <td>5</td>\n",
              "    </tr>\n",
              "    <tr>\n",
              "      <th>4</th>\n",
              "      <td>audi</td>\n",
              "      <td>gas</td>\n",
              "      <td>four</td>\n",
              "      <td>wagon</td>\n",
              "      <td>fwd</td>\n",
              "      <td>front</td>\n",
              "      <td>105.8</td>\n",
              "      <td>192.7</td>\n",
              "      <td>71.4</td>\n",
              "      <td>55.7</td>\n",
              "      <td>2954</td>\n",
              "      <td>ohc</td>\n",
              "      <td>five</td>\n",
              "      <td>136</td>\n",
              "      <td>mpfi</td>\n",
              "      <td>3.19</td>\n",
              "      <td>3.4</td>\n",
              "      <td>8.5</td>\n",
              "      <td>110</td>\n",
              "      <td>5500</td>\n",
              "      <td>19</td>\n",
              "      <td>25</td>\n",
              "      <td>18920</td>\n",
              "      <td>5</td>\n",
              "    </tr>\n",
              "  </tbody>\n",
              "</table>\n",
              "</div>"
            ],
            "text/plain": [
              "   make fuel_type num_of_doors body_style  ... city_mpg highway_mpg  price  rating\n",
              "0  audi       gas         four      sedan  ...       24          30  13950       5\n",
              "1  audi       gas         four      sedan  ...       18          22  17450       5\n",
              "2  audi       gas          two      sedan  ...       19          25  15250       5\n",
              "3  audi       gas         four      sedan  ...       19          25  17710       5\n",
              "4  audi       gas         four      wagon  ...       19          25  18920       5\n",
              "\n",
              "[5 rows x 24 columns]"
            ]
          },
          "metadata": {
            "tags": []
          },
          "execution_count": 21
        }
      ]
    },
    {
      "cell_type": "code",
      "metadata": {
        "id": "czRIPaaOJbkX",
        "colab_type": "code",
        "outputId": "c3c711d7-5b82-4f24-b18b-60bb0ae7c5cf",
        "colab": {
          "base_uri": "https://localhost:8080/",
          "height": 218
        }
      },
      "source": [
        "data.merge(df1,how=\"right\").head()"
      ],
      "execution_count": 0,
      "outputs": [
        {
          "output_type": "execute_result",
          "data": {
            "text/html": [
              "<div>\n",
              "<style scoped>\n",
              "    .dataframe tbody tr th:only-of-type {\n",
              "        vertical-align: middle;\n",
              "    }\n",
              "\n",
              "    .dataframe tbody tr th {\n",
              "        vertical-align: top;\n",
              "    }\n",
              "\n",
              "    .dataframe thead th {\n",
              "        text-align: right;\n",
              "    }\n",
              "</style>\n",
              "<table border=\"1\" class=\"dataframe\">\n",
              "  <thead>\n",
              "    <tr style=\"text-align: right;\">\n",
              "      <th></th>\n",
              "      <th>make</th>\n",
              "      <th>fuel_type</th>\n",
              "      <th>num_of_doors</th>\n",
              "      <th>body_style</th>\n",
              "      <th>drive_wheels</th>\n",
              "      <th>engine_location</th>\n",
              "      <th>wheel_base</th>\n",
              "      <th>length</th>\n",
              "      <th>width</th>\n",
              "      <th>height</th>\n",
              "      <th>curb_weight</th>\n",
              "      <th>engine_type</th>\n",
              "      <th>num_of_cylinders</th>\n",
              "      <th>engine_size</th>\n",
              "      <th>fuel_system</th>\n",
              "      <th>bore</th>\n",
              "      <th>stroke</th>\n",
              "      <th>compression_ratio</th>\n",
              "      <th>horsepower</th>\n",
              "      <th>peak_rpm</th>\n",
              "      <th>city_mpg</th>\n",
              "      <th>highway_mpg</th>\n",
              "      <th>price</th>\n",
              "      <th>rating</th>\n",
              "    </tr>\n",
              "  </thead>\n",
              "  <tbody>\n",
              "    <tr>\n",
              "      <th>0</th>\n",
              "      <td>audi</td>\n",
              "      <td>gas</td>\n",
              "      <td>four</td>\n",
              "      <td>sedan</td>\n",
              "      <td>fwd</td>\n",
              "      <td>front</td>\n",
              "      <td>99.8</td>\n",
              "      <td>176.6</td>\n",
              "      <td>66.2</td>\n",
              "      <td>54.3</td>\n",
              "      <td>2337</td>\n",
              "      <td>ohc</td>\n",
              "      <td>four</td>\n",
              "      <td>109</td>\n",
              "      <td>mpfi</td>\n",
              "      <td>3.19</td>\n",
              "      <td>3.4</td>\n",
              "      <td>10.0</td>\n",
              "      <td>102</td>\n",
              "      <td>5500</td>\n",
              "      <td>24</td>\n",
              "      <td>30</td>\n",
              "      <td>13950</td>\n",
              "      <td>5</td>\n",
              "    </tr>\n",
              "    <tr>\n",
              "      <th>1</th>\n",
              "      <td>audi</td>\n",
              "      <td>gas</td>\n",
              "      <td>four</td>\n",
              "      <td>sedan</td>\n",
              "      <td>4wd</td>\n",
              "      <td>front</td>\n",
              "      <td>99.4</td>\n",
              "      <td>176.6</td>\n",
              "      <td>66.4</td>\n",
              "      <td>54.3</td>\n",
              "      <td>2824</td>\n",
              "      <td>ohc</td>\n",
              "      <td>five</td>\n",
              "      <td>136</td>\n",
              "      <td>mpfi</td>\n",
              "      <td>3.19</td>\n",
              "      <td>3.4</td>\n",
              "      <td>8.0</td>\n",
              "      <td>115</td>\n",
              "      <td>5500</td>\n",
              "      <td>18</td>\n",
              "      <td>22</td>\n",
              "      <td>17450</td>\n",
              "      <td>5</td>\n",
              "    </tr>\n",
              "    <tr>\n",
              "      <th>2</th>\n",
              "      <td>audi</td>\n",
              "      <td>gas</td>\n",
              "      <td>two</td>\n",
              "      <td>sedan</td>\n",
              "      <td>fwd</td>\n",
              "      <td>front</td>\n",
              "      <td>99.8</td>\n",
              "      <td>177.3</td>\n",
              "      <td>66.3</td>\n",
              "      <td>53.1</td>\n",
              "      <td>2507</td>\n",
              "      <td>ohc</td>\n",
              "      <td>five</td>\n",
              "      <td>136</td>\n",
              "      <td>mpfi</td>\n",
              "      <td>3.19</td>\n",
              "      <td>3.4</td>\n",
              "      <td>8.5</td>\n",
              "      <td>110</td>\n",
              "      <td>5500</td>\n",
              "      <td>19</td>\n",
              "      <td>25</td>\n",
              "      <td>15250</td>\n",
              "      <td>5</td>\n",
              "    </tr>\n",
              "    <tr>\n",
              "      <th>3</th>\n",
              "      <td>audi</td>\n",
              "      <td>gas</td>\n",
              "      <td>four</td>\n",
              "      <td>sedan</td>\n",
              "      <td>fwd</td>\n",
              "      <td>front</td>\n",
              "      <td>105.8</td>\n",
              "      <td>192.7</td>\n",
              "      <td>71.4</td>\n",
              "      <td>55.7</td>\n",
              "      <td>2844</td>\n",
              "      <td>ohc</td>\n",
              "      <td>five</td>\n",
              "      <td>136</td>\n",
              "      <td>mpfi</td>\n",
              "      <td>3.19</td>\n",
              "      <td>3.4</td>\n",
              "      <td>8.5</td>\n",
              "      <td>110</td>\n",
              "      <td>5500</td>\n",
              "      <td>19</td>\n",
              "      <td>25</td>\n",
              "      <td>17710</td>\n",
              "      <td>5</td>\n",
              "    </tr>\n",
              "    <tr>\n",
              "      <th>4</th>\n",
              "      <td>audi</td>\n",
              "      <td>gas</td>\n",
              "      <td>four</td>\n",
              "      <td>wagon</td>\n",
              "      <td>fwd</td>\n",
              "      <td>front</td>\n",
              "      <td>105.8</td>\n",
              "      <td>192.7</td>\n",
              "      <td>71.4</td>\n",
              "      <td>55.7</td>\n",
              "      <td>2954</td>\n",
              "      <td>ohc</td>\n",
              "      <td>five</td>\n",
              "      <td>136</td>\n",
              "      <td>mpfi</td>\n",
              "      <td>3.19</td>\n",
              "      <td>3.4</td>\n",
              "      <td>8.5</td>\n",
              "      <td>110</td>\n",
              "      <td>5500</td>\n",
              "      <td>19</td>\n",
              "      <td>25</td>\n",
              "      <td>18920</td>\n",
              "      <td>5</td>\n",
              "    </tr>\n",
              "  </tbody>\n",
              "</table>\n",
              "</div>"
            ],
            "text/plain": [
              "   make fuel_type num_of_doors body_style  ... city_mpg highway_mpg  price  rating\n",
              "0  audi       gas         four      sedan  ...       24          30  13950       5\n",
              "1  audi       gas         four      sedan  ...       18          22  17450       5\n",
              "2  audi       gas          two      sedan  ...       19          25  15250       5\n",
              "3  audi       gas         four      sedan  ...       19          25  17710       5\n",
              "4  audi       gas         four      wagon  ...       19          25  18920       5\n",
              "\n",
              "[5 rows x 24 columns]"
            ]
          },
          "metadata": {
            "tags": []
          },
          "execution_count": 22
        }
      ]
    },
    {
      "cell_type": "code",
      "metadata": {
        "id": "cxBID8rWJbni",
        "colab_type": "code",
        "outputId": "323a6f0f-adf3-474a-fada-bfc66dc241f8",
        "colab": {
          "base_uri": "https://localhost:8080/",
          "height": 270
        }
      },
      "source": [
        "data.merge(df1,how=\"outer\").head()"
      ],
      "execution_count": 0,
      "outputs": [
        {
          "output_type": "execute_result",
          "data": {
            "text/html": [
              "<div>\n",
              "<style scoped>\n",
              "    .dataframe tbody tr th:only-of-type {\n",
              "        vertical-align: middle;\n",
              "    }\n",
              "\n",
              "    .dataframe tbody tr th {\n",
              "        vertical-align: top;\n",
              "    }\n",
              "\n",
              "    .dataframe thead th {\n",
              "        text-align: right;\n",
              "    }\n",
              "</style>\n",
              "<table border=\"1\" class=\"dataframe\">\n",
              "  <thead>\n",
              "    <tr style=\"text-align: right;\">\n",
              "      <th></th>\n",
              "      <th>make</th>\n",
              "      <th>fuel_type</th>\n",
              "      <th>num_of_doors</th>\n",
              "      <th>body_style</th>\n",
              "      <th>drive_wheels</th>\n",
              "      <th>engine_location</th>\n",
              "      <th>wheel_base</th>\n",
              "      <th>length</th>\n",
              "      <th>width</th>\n",
              "      <th>height</th>\n",
              "      <th>curb_weight</th>\n",
              "      <th>engine_type</th>\n",
              "      <th>num_of_cylinders</th>\n",
              "      <th>engine_size</th>\n",
              "      <th>fuel_system</th>\n",
              "      <th>bore</th>\n",
              "      <th>stroke</th>\n",
              "      <th>compression_ratio</th>\n",
              "      <th>horsepower</th>\n",
              "      <th>peak_rpm</th>\n",
              "      <th>city_mpg</th>\n",
              "      <th>highway_mpg</th>\n",
              "      <th>price</th>\n",
              "      <th>rating</th>\n",
              "    </tr>\n",
              "  </thead>\n",
              "  <tbody>\n",
              "    <tr>\n",
              "      <th>0</th>\n",
              "      <td>alfa-romero</td>\n",
              "      <td>gas</td>\n",
              "      <td>two</td>\n",
              "      <td>convertible</td>\n",
              "      <td>rwd</td>\n",
              "      <td>front</td>\n",
              "      <td>88.6</td>\n",
              "      <td>168.8</td>\n",
              "      <td>64.1</td>\n",
              "      <td>48.8</td>\n",
              "      <td>2548</td>\n",
              "      <td>dohc</td>\n",
              "      <td>four</td>\n",
              "      <td>130</td>\n",
              "      <td>mpfi</td>\n",
              "      <td>3.47</td>\n",
              "      <td>2.68</td>\n",
              "      <td>9.0</td>\n",
              "      <td>111</td>\n",
              "      <td>5000</td>\n",
              "      <td>21</td>\n",
              "      <td>27</td>\n",
              "      <td>13495</td>\n",
              "      <td>NaN</td>\n",
              "    </tr>\n",
              "    <tr>\n",
              "      <th>1</th>\n",
              "      <td>alfa-romero</td>\n",
              "      <td>gas</td>\n",
              "      <td>two</td>\n",
              "      <td>convertible</td>\n",
              "      <td>rwd</td>\n",
              "      <td>front</td>\n",
              "      <td>88.6</td>\n",
              "      <td>168.8</td>\n",
              "      <td>64.1</td>\n",
              "      <td>48.8</td>\n",
              "      <td>2548</td>\n",
              "      <td>dohc</td>\n",
              "      <td>four</td>\n",
              "      <td>130</td>\n",
              "      <td>mpfi</td>\n",
              "      <td>3.47</td>\n",
              "      <td>2.68</td>\n",
              "      <td>9.0</td>\n",
              "      <td>111</td>\n",
              "      <td>5000</td>\n",
              "      <td>21</td>\n",
              "      <td>27</td>\n",
              "      <td>16500</td>\n",
              "      <td>NaN</td>\n",
              "    </tr>\n",
              "    <tr>\n",
              "      <th>2</th>\n",
              "      <td>alfa-romero</td>\n",
              "      <td>gas</td>\n",
              "      <td>two</td>\n",
              "      <td>hatchback</td>\n",
              "      <td>rwd</td>\n",
              "      <td>front</td>\n",
              "      <td>94.5</td>\n",
              "      <td>171.2</td>\n",
              "      <td>65.5</td>\n",
              "      <td>52.4</td>\n",
              "      <td>2823</td>\n",
              "      <td>ohcv</td>\n",
              "      <td>six</td>\n",
              "      <td>152</td>\n",
              "      <td>mpfi</td>\n",
              "      <td>2.68</td>\n",
              "      <td>3.47</td>\n",
              "      <td>9.0</td>\n",
              "      <td>154</td>\n",
              "      <td>5000</td>\n",
              "      <td>19</td>\n",
              "      <td>26</td>\n",
              "      <td>16500</td>\n",
              "      <td>NaN</td>\n",
              "    </tr>\n",
              "    <tr>\n",
              "      <th>3</th>\n",
              "      <td>audi</td>\n",
              "      <td>gas</td>\n",
              "      <td>four</td>\n",
              "      <td>sedan</td>\n",
              "      <td>fwd</td>\n",
              "      <td>front</td>\n",
              "      <td>99.8</td>\n",
              "      <td>176.6</td>\n",
              "      <td>66.2</td>\n",
              "      <td>54.3</td>\n",
              "      <td>2337</td>\n",
              "      <td>ohc</td>\n",
              "      <td>four</td>\n",
              "      <td>109</td>\n",
              "      <td>mpfi</td>\n",
              "      <td>3.19</td>\n",
              "      <td>3.40</td>\n",
              "      <td>10.0</td>\n",
              "      <td>102</td>\n",
              "      <td>5500</td>\n",
              "      <td>24</td>\n",
              "      <td>30</td>\n",
              "      <td>13950</td>\n",
              "      <td>5.0</td>\n",
              "    </tr>\n",
              "    <tr>\n",
              "      <th>4</th>\n",
              "      <td>audi</td>\n",
              "      <td>gas</td>\n",
              "      <td>four</td>\n",
              "      <td>sedan</td>\n",
              "      <td>4wd</td>\n",
              "      <td>front</td>\n",
              "      <td>99.4</td>\n",
              "      <td>176.6</td>\n",
              "      <td>66.4</td>\n",
              "      <td>54.3</td>\n",
              "      <td>2824</td>\n",
              "      <td>ohc</td>\n",
              "      <td>five</td>\n",
              "      <td>136</td>\n",
              "      <td>mpfi</td>\n",
              "      <td>3.19</td>\n",
              "      <td>3.40</td>\n",
              "      <td>8.0</td>\n",
              "      <td>115</td>\n",
              "      <td>5500</td>\n",
              "      <td>18</td>\n",
              "      <td>22</td>\n",
              "      <td>17450</td>\n",
              "      <td>5.0</td>\n",
              "    </tr>\n",
              "  </tbody>\n",
              "</table>\n",
              "</div>"
            ],
            "text/plain": [
              "          make fuel_type num_of_doors  ... highway_mpg  price rating\n",
              "0  alfa-romero       gas          two  ...          27  13495    NaN\n",
              "1  alfa-romero       gas          two  ...          27  16500    NaN\n",
              "2  alfa-romero       gas          two  ...          26  16500    NaN\n",
              "3         audi       gas         four  ...          30  13950    5.0\n",
              "4         audi       gas         four  ...          22  17450    5.0\n",
              "\n",
              "[5 rows x 24 columns]"
            ]
          },
          "metadata": {
            "tags": []
          },
          "execution_count": 23
        }
      ]
    },
    {
      "cell_type": "code",
      "metadata": {
        "id": "NEynL2IKJbqg",
        "colab_type": "code",
        "outputId": "63d3abe5-1321-4b82-df2d-2ffc3ae0f7fc",
        "colab": {
          "base_uri": "https://localhost:8080/",
          "height": 270
        }
      },
      "source": [
        "data.merge(df1,how=\"left\").head()"
      ],
      "execution_count": 0,
      "outputs": [
        {
          "output_type": "execute_result",
          "data": {
            "text/html": [
              "<div>\n",
              "<style scoped>\n",
              "    .dataframe tbody tr th:only-of-type {\n",
              "        vertical-align: middle;\n",
              "    }\n",
              "\n",
              "    .dataframe tbody tr th {\n",
              "        vertical-align: top;\n",
              "    }\n",
              "\n",
              "    .dataframe thead th {\n",
              "        text-align: right;\n",
              "    }\n",
              "</style>\n",
              "<table border=\"1\" class=\"dataframe\">\n",
              "  <thead>\n",
              "    <tr style=\"text-align: right;\">\n",
              "      <th></th>\n",
              "      <th>make</th>\n",
              "      <th>fuel_type</th>\n",
              "      <th>num_of_doors</th>\n",
              "      <th>body_style</th>\n",
              "      <th>drive_wheels</th>\n",
              "      <th>engine_location</th>\n",
              "      <th>wheel_base</th>\n",
              "      <th>length</th>\n",
              "      <th>width</th>\n",
              "      <th>height</th>\n",
              "      <th>curb_weight</th>\n",
              "      <th>engine_type</th>\n",
              "      <th>num_of_cylinders</th>\n",
              "      <th>engine_size</th>\n",
              "      <th>fuel_system</th>\n",
              "      <th>bore</th>\n",
              "      <th>stroke</th>\n",
              "      <th>compression_ratio</th>\n",
              "      <th>horsepower</th>\n",
              "      <th>peak_rpm</th>\n",
              "      <th>city_mpg</th>\n",
              "      <th>highway_mpg</th>\n",
              "      <th>price</th>\n",
              "      <th>rating</th>\n",
              "    </tr>\n",
              "  </thead>\n",
              "  <tbody>\n",
              "    <tr>\n",
              "      <th>0</th>\n",
              "      <td>alfa-romero</td>\n",
              "      <td>gas</td>\n",
              "      <td>two</td>\n",
              "      <td>convertible</td>\n",
              "      <td>rwd</td>\n",
              "      <td>front</td>\n",
              "      <td>88.6</td>\n",
              "      <td>168.8</td>\n",
              "      <td>64.1</td>\n",
              "      <td>48.8</td>\n",
              "      <td>2548</td>\n",
              "      <td>dohc</td>\n",
              "      <td>four</td>\n",
              "      <td>130</td>\n",
              "      <td>mpfi</td>\n",
              "      <td>3.47</td>\n",
              "      <td>2.68</td>\n",
              "      <td>9.0</td>\n",
              "      <td>111</td>\n",
              "      <td>5000</td>\n",
              "      <td>21</td>\n",
              "      <td>27</td>\n",
              "      <td>13495</td>\n",
              "      <td>NaN</td>\n",
              "    </tr>\n",
              "    <tr>\n",
              "      <th>1</th>\n",
              "      <td>alfa-romero</td>\n",
              "      <td>gas</td>\n",
              "      <td>two</td>\n",
              "      <td>convertible</td>\n",
              "      <td>rwd</td>\n",
              "      <td>front</td>\n",
              "      <td>88.6</td>\n",
              "      <td>168.8</td>\n",
              "      <td>64.1</td>\n",
              "      <td>48.8</td>\n",
              "      <td>2548</td>\n",
              "      <td>dohc</td>\n",
              "      <td>four</td>\n",
              "      <td>130</td>\n",
              "      <td>mpfi</td>\n",
              "      <td>3.47</td>\n",
              "      <td>2.68</td>\n",
              "      <td>9.0</td>\n",
              "      <td>111</td>\n",
              "      <td>5000</td>\n",
              "      <td>21</td>\n",
              "      <td>27</td>\n",
              "      <td>16500</td>\n",
              "      <td>NaN</td>\n",
              "    </tr>\n",
              "    <tr>\n",
              "      <th>2</th>\n",
              "      <td>alfa-romero</td>\n",
              "      <td>gas</td>\n",
              "      <td>two</td>\n",
              "      <td>hatchback</td>\n",
              "      <td>rwd</td>\n",
              "      <td>front</td>\n",
              "      <td>94.5</td>\n",
              "      <td>171.2</td>\n",
              "      <td>65.5</td>\n",
              "      <td>52.4</td>\n",
              "      <td>2823</td>\n",
              "      <td>ohcv</td>\n",
              "      <td>six</td>\n",
              "      <td>152</td>\n",
              "      <td>mpfi</td>\n",
              "      <td>2.68</td>\n",
              "      <td>3.47</td>\n",
              "      <td>9.0</td>\n",
              "      <td>154</td>\n",
              "      <td>5000</td>\n",
              "      <td>19</td>\n",
              "      <td>26</td>\n",
              "      <td>16500</td>\n",
              "      <td>NaN</td>\n",
              "    </tr>\n",
              "    <tr>\n",
              "      <th>3</th>\n",
              "      <td>audi</td>\n",
              "      <td>gas</td>\n",
              "      <td>four</td>\n",
              "      <td>sedan</td>\n",
              "      <td>fwd</td>\n",
              "      <td>front</td>\n",
              "      <td>99.8</td>\n",
              "      <td>176.6</td>\n",
              "      <td>66.2</td>\n",
              "      <td>54.3</td>\n",
              "      <td>2337</td>\n",
              "      <td>ohc</td>\n",
              "      <td>four</td>\n",
              "      <td>109</td>\n",
              "      <td>mpfi</td>\n",
              "      <td>3.19</td>\n",
              "      <td>3.40</td>\n",
              "      <td>10.0</td>\n",
              "      <td>102</td>\n",
              "      <td>5500</td>\n",
              "      <td>24</td>\n",
              "      <td>30</td>\n",
              "      <td>13950</td>\n",
              "      <td>5.0</td>\n",
              "    </tr>\n",
              "    <tr>\n",
              "      <th>4</th>\n",
              "      <td>audi</td>\n",
              "      <td>gas</td>\n",
              "      <td>four</td>\n",
              "      <td>sedan</td>\n",
              "      <td>4wd</td>\n",
              "      <td>front</td>\n",
              "      <td>99.4</td>\n",
              "      <td>176.6</td>\n",
              "      <td>66.4</td>\n",
              "      <td>54.3</td>\n",
              "      <td>2824</td>\n",
              "      <td>ohc</td>\n",
              "      <td>five</td>\n",
              "      <td>136</td>\n",
              "      <td>mpfi</td>\n",
              "      <td>3.19</td>\n",
              "      <td>3.40</td>\n",
              "      <td>8.0</td>\n",
              "      <td>115</td>\n",
              "      <td>5500</td>\n",
              "      <td>18</td>\n",
              "      <td>22</td>\n",
              "      <td>17450</td>\n",
              "      <td>5.0</td>\n",
              "    </tr>\n",
              "  </tbody>\n",
              "</table>\n",
              "</div>"
            ],
            "text/plain": [
              "          make fuel_type num_of_doors  ... highway_mpg  price rating\n",
              "0  alfa-romero       gas          two  ...          27  13495    NaN\n",
              "1  alfa-romero       gas          two  ...          27  16500    NaN\n",
              "2  alfa-romero       gas          two  ...          26  16500    NaN\n",
              "3         audi       gas         four  ...          30  13950    5.0\n",
              "4         audi       gas         four  ...          22  17450    5.0\n",
              "\n",
              "[5 rows x 24 columns]"
            ]
          },
          "metadata": {
            "tags": []
          },
          "execution_count": 24
        }
      ]
    },
    {
      "cell_type": "markdown",
      "metadata": {
        "id": "opHZuhpWF1nd",
        "colab_type": "text"
      },
      "source": [
        "# Pandas: missing values, unique values, duplicates\n",
        "- [isnull()](https://pandas.pydata.org/pandas-docs/stable/reference/api/pandas.DataFrame.isnull.html) - detects missing avlues and outputs True or False\n",
        "- [unique()](https://pandas.pydata.org/pandas-docs/stable/reference/api/pandas.Series.unique.html) - returns the unique values of a column\n",
        "- [nunique()](https://pandas.pydata.org/pandas-docs/stable/reference/api/pandas.DataFrame.nunique.html) - returns the number of unique values for each column\n",
        "- [value_counts()](https://pandas.pydata.org/pandas-docs/stable/reference/api/pandas.Series.value_counts.html) - provides unique values and their columns for a column"
      ]
    },
    {
      "cell_type": "code",
      "metadata": {
        "id": "WooYtol7F101",
        "colab_type": "code",
        "outputId": "e1000e92-ca6b-4702-ca8f-d23a69e248a0",
        "colab": {
          "base_uri": "https://localhost:8080/",
          "height": 526
        }
      },
      "source": [
        "data.info()"
      ],
      "execution_count": 0,
      "outputs": [
        {
          "output_type": "stream",
          "text": [
            "<class 'pandas.core.frame.DataFrame'>\n",
            "RangeIndex: 193 entries, 0 to 192\n",
            "Data columns (total 23 columns):\n",
            "make                 193 non-null object\n",
            "fuel_type            193 non-null object\n",
            "num_of_doors         193 non-null object\n",
            "body_style           193 non-null object\n",
            "drive_wheels         193 non-null object\n",
            "engine_location      193 non-null object\n",
            "wheel_base           193 non-null float64\n",
            "length               193 non-null float64\n",
            "width                193 non-null float64\n",
            "height               193 non-null float64\n",
            "curb_weight          193 non-null int64\n",
            "engine_type          193 non-null object\n",
            "num_of_cylinders     193 non-null object\n",
            "engine_size          193 non-null int64\n",
            "fuel_system          193 non-null object\n",
            "bore                 193 non-null float64\n",
            "stroke               193 non-null float64\n",
            "compression_ratio    193 non-null float64\n",
            "horsepower           193 non-null int64\n",
            "peak_rpm             193 non-null int64\n",
            "city_mpg             193 non-null int64\n",
            "highway_mpg          193 non-null int64\n",
            "price                193 non-null int64\n",
            "dtypes: float64(7), int64(7), object(9)\n",
            "memory usage: 34.8+ KB\n"
          ],
          "name": "stdout"
        }
      ]
    },
    {
      "cell_type": "code",
      "metadata": {
        "id": "Fv59lzz8G3wA",
        "colab_type": "code",
        "outputId": "fa312a0d-413a-4e2d-ae64-71b69de236c9",
        "colab": {
          "base_uri": "https://localhost:8080/",
          "height": 454
        }
      },
      "source": [
        "data.isnull().sum()"
      ],
      "execution_count": 0,
      "outputs": [
        {
          "output_type": "execute_result",
          "data": {
            "text/plain": [
              "make                 0\n",
              "fuel_type            0\n",
              "num_of_doors         0\n",
              "body_style           0\n",
              "drive_wheels         0\n",
              "engine_location      0\n",
              "wheel_base           0\n",
              "length               0\n",
              "width                0\n",
              "height               0\n",
              "curb_weight          0\n",
              "engine_type          0\n",
              "num_of_cylinders     0\n",
              "engine_size          0\n",
              "fuel_system          0\n",
              "bore                 0\n",
              "stroke               0\n",
              "compression_ratio    0\n",
              "horsepower           0\n",
              "peak_rpm             0\n",
              "city_mpg             0\n",
              "highway_mpg          0\n",
              "price                0\n",
              "dtype: int64"
            ]
          },
          "metadata": {
            "tags": []
          },
          "execution_count": 26
        }
      ]
    },
    {
      "cell_type": "code",
      "metadata": {
        "id": "SbJHQjRcG4SC",
        "colab_type": "code",
        "colab": {}
      },
      "source": [
        "data_without_na = data.dropna(axis=0,inplace=False)"
      ],
      "execution_count": 0,
      "outputs": []
    },
    {
      "cell_type": "code",
      "metadata": {
        "id": "ShuWZysVG4VK",
        "colab_type": "code",
        "colab": {}
      },
      "source": [
        "data_filled_na = data.fillna(axis=0,value=0)"
      ],
      "execution_count": 0,
      "outputs": []
    },
    {
      "cell_type": "code",
      "metadata": {
        "id": "UJ0GAWS43yg7",
        "colab_type": "code",
        "outputId": "7a155b6c-09d3-4274-c505-3d0bcba70bf6",
        "colab": {
          "base_uri": "https://localhost:8080/",
          "height": 54
        }
      },
      "source": [
        "data_no_duplicates = data.drop_duplicates()\n",
        "print(\"Shape before:\",data.shape)\n",
        "print(\"Shape before:\",data_no_duplicates.shape)"
      ],
      "execution_count": 0,
      "outputs": [
        {
          "output_type": "stream",
          "text": [
            "Shape before: (193, 23)\n",
            "Shape before: (192, 23)\n"
          ],
          "name": "stdout"
        }
      ]
    },
    {
      "cell_type": "code",
      "metadata": {
        "id": "Hpgs22NK3yk4",
        "colab_type": "code",
        "outputId": "ddc18a3e-50c0-4c42-8ccb-26e2f857d66b",
        "colab": {
          "base_uri": "https://localhost:8080/",
          "height": 35
        }
      },
      "source": [
        "data.make.nunique()"
      ],
      "execution_count": 0,
      "outputs": [
        {
          "output_type": "execute_result",
          "data": {
            "text/plain": [
              "21"
            ]
          },
          "metadata": {
            "tags": []
          },
          "execution_count": 30
        }
      ]
    },
    {
      "cell_type": "code",
      "metadata": {
        "id": "0mArWpdO4MGC",
        "colab_type": "code",
        "outputId": "3f363a40-cd9a-4aea-cdb6-23516503afdf",
        "colab": {
          "base_uri": "https://localhost:8080/",
          "height": 90
        }
      },
      "source": [
        "data.make.unique()"
      ],
      "execution_count": 0,
      "outputs": [
        {
          "output_type": "execute_result",
          "data": {
            "text/plain": [
              "array(['alfa-romero', 'audi', 'bmw', 'chevrolet', 'dodge', 'honda',\n",
              "       'isuzu', 'jaguar', 'mazda', 'mercedes-benz', 'mercury',\n",
              "       'mitsubishi', 'nissan', 'peugot', 'plymouth', 'porsche', 'saab',\n",
              "       'subaru', 'toyota', 'volkswagen', 'volvo'], dtype=object)"
            ]
          },
          "metadata": {
            "tags": []
          },
          "execution_count": 31
        }
      ]
    },
    {
      "cell_type": "code",
      "metadata": {
        "id": "GOEtDObh4MOX",
        "colab_type": "code",
        "outputId": "63748dbd-6e32-4ef0-93fd-ade1df75f502",
        "colab": {
          "base_uri": "https://localhost:8080/",
          "height": 417
        }
      },
      "source": [
        "data.make.value_counts()"
      ],
      "execution_count": 0,
      "outputs": [
        {
          "output_type": "execute_result",
          "data": {
            "text/plain": [
              "toyota           32\n",
              "nissan           18\n",
              "honda            13\n",
              "mitsubishi       13\n",
              "subaru           12\n",
              "mazda            12\n",
              "volkswagen       12\n",
              "volvo            11\n",
              "peugot           11\n",
              "bmw               8\n",
              "mercedes-benz     8\n",
              "dodge             8\n",
              "plymouth          7\n",
              "saab              6\n",
              "audi              6\n",
              "porsche           4\n",
              "chevrolet         3\n",
              "alfa-romero       3\n",
              "jaguar            3\n",
              "isuzu             2\n",
              "mercury           1\n",
              "Name: make, dtype: int64"
            ]
          },
          "metadata": {
            "tags": []
          },
          "execution_count": 32
        }
      ]
    },
    {
      "cell_type": "markdown",
      "metadata": {
        "id": "1jQbBPXNF80p",
        "colab_type": "text"
      },
      "source": [
        "# Pandas: DataFrame frame, apply functions, dummies, crosstabs\n",
        "\n",
        "- [data.index.tolist()]() - selects the index of the dataframe and returns as a list\n",
        "- [data.columns.tolist()]() - selects the header row (column names) of the dataframe and returns as a list\n",
        "- [rename()]() - renames the given column(s) of the daraframe, using old name as the dictionary key and new name as the value \n",
        "- [apply()]() - applies a predefined (or unnamed lambda) function to the whole column\n",
        "- [sort_values()]() - sorts the dataframe by some given column(s) values in an ascending or descending order\n",
        "- [get_dummies()]() - produces a dataframe with dumy variables (1 if True, 0 otherwise)\n",
        "- [groupby()]() - groups creates groups of a given varaible (as index) and populates all the columns with a given aggregating functino (mean in our case)\n",
        "- [crosstab()]() - creates crosstabulations (same as pivot tables), aggregation function can be the mean, median, count etc.\n",
        "- [pivot_table()]() - same crosstab, but faster\n",
        "\n",
        "- [lambda functions]() - unnamed functions defined directly inside the apply functions (in our case) or elsewhere (e.g. comprehensions)\n"
      ]
    },
    {
      "cell_type": "code",
      "metadata": {
        "id": "8ArYpls24j8I",
        "colab_type": "code",
        "outputId": "1ee421d0-f27a-4d90-95cb-49cd0c14a2f7",
        "colab": {
          "base_uri": "https://localhost:8080/",
          "height": 55
        }
      },
      "source": [
        "print(data.index.tolist())"
      ],
      "execution_count": 0,
      "outputs": [
        {
          "output_type": "stream",
          "text": [
            "[0, 1, 2, 3, 4, 5, 6, 7, 8, 9, 10, 11, 12, 13, 14, 15, 16, 17, 18, 19, 20, 21, 22, 23, 24, 25, 26, 27, 28, 29, 30, 31, 32, 33, 34, 35, 36, 37, 38, 39, 40, 41, 42, 43, 44, 45, 46, 47, 48, 49, 50, 51, 52, 53, 54, 55, 56, 57, 58, 59, 60, 61, 62, 63, 64, 65, 66, 67, 68, 69, 70, 71, 72, 73, 74, 75, 76, 77, 78, 79, 80, 81, 82, 83, 84, 85, 86, 87, 88, 89, 90, 91, 92, 93, 94, 95, 96, 97, 98, 99, 100, 101, 102, 103, 104, 105, 106, 107, 108, 109, 110, 111, 112, 113, 114, 115, 116, 117, 118, 119, 120, 121, 122, 123, 124, 125, 126, 127, 128, 129, 130, 131, 132, 133, 134, 135, 136, 137, 138, 139, 140, 141, 142, 143, 144, 145, 146, 147, 148, 149, 150, 151, 152, 153, 154, 155, 156, 157, 158, 159, 160, 161, 162, 163, 164, 165, 166, 167, 168, 169, 170, 171, 172, 173, 174, 175, 176, 177, 178, 179, 180, 181, 182, 183, 184, 185, 186, 187, 188, 189, 190, 191, 192]\n"
          ],
          "name": "stdout"
        }
      ]
    },
    {
      "cell_type": "code",
      "metadata": {
        "id": "_ZyyeTcu4kBu",
        "colab_type": "code",
        "outputId": "5b125763-35c6-43f8-fd5c-79ec2a2b5706",
        "colab": {
          "base_uri": "https://localhost:8080/",
          "height": 55
        }
      },
      "source": [
        "print(data.columns.tolist())"
      ],
      "execution_count": 0,
      "outputs": [
        {
          "output_type": "stream",
          "text": [
            "['make', 'fuel_type', 'num_of_doors', 'body_style', 'drive_wheels', 'engine_location', 'wheel_base', 'length', 'width', 'height', 'curb_weight', 'engine_type', 'num_of_cylinders', 'engine_size', 'fuel_system', 'bore', 'stroke', 'compression_ratio', 'horsepower', 'peak_rpm', 'city_mpg', 'highway_mpg', 'price']\n"
          ],
          "name": "stdout"
        }
      ]
    },
    {
      "cell_type": "code",
      "metadata": {
        "id": "DNmWVbNQ4m5c",
        "colab_type": "code",
        "colab": {}
      },
      "source": [
        "data = data.rename(columns={\"price\":\"price_USD\"})"
      ],
      "execution_count": 0,
      "outputs": []
    },
    {
      "cell_type": "code",
      "metadata": {
        "id": "cR6KLOfYF89s",
        "colab_type": "code",
        "outputId": "ef9ba2c7-5f1a-4e8d-8226-86b95abec6dc",
        "colab": {
          "base_uri": "https://localhost:8080/",
          "height": 198
        }
      },
      "source": [
        "data[\"price_AMD\"] = data.price_USD.apply(lambda x: x*485)\n",
        "data[[\"price_USD\", \"price_AMD\"]].head()"
      ],
      "execution_count": 0,
      "outputs": [
        {
          "output_type": "execute_result",
          "data": {
            "text/html": [
              "<div>\n",
              "<style scoped>\n",
              "    .dataframe tbody tr th:only-of-type {\n",
              "        vertical-align: middle;\n",
              "    }\n",
              "\n",
              "    .dataframe tbody tr th {\n",
              "        vertical-align: top;\n",
              "    }\n",
              "\n",
              "    .dataframe thead th {\n",
              "        text-align: right;\n",
              "    }\n",
              "</style>\n",
              "<table border=\"1\" class=\"dataframe\">\n",
              "  <thead>\n",
              "    <tr style=\"text-align: right;\">\n",
              "      <th></th>\n",
              "      <th>price_USD</th>\n",
              "      <th>price_AMD</th>\n",
              "    </tr>\n",
              "  </thead>\n",
              "  <tbody>\n",
              "    <tr>\n",
              "      <th>0</th>\n",
              "      <td>13495</td>\n",
              "      <td>6545075</td>\n",
              "    </tr>\n",
              "    <tr>\n",
              "      <th>1</th>\n",
              "      <td>16500</td>\n",
              "      <td>8002500</td>\n",
              "    </tr>\n",
              "    <tr>\n",
              "      <th>2</th>\n",
              "      <td>16500</td>\n",
              "      <td>8002500</td>\n",
              "    </tr>\n",
              "    <tr>\n",
              "      <th>3</th>\n",
              "      <td>13950</td>\n",
              "      <td>6765750</td>\n",
              "    </tr>\n",
              "    <tr>\n",
              "      <th>4</th>\n",
              "      <td>17450</td>\n",
              "      <td>8463250</td>\n",
              "    </tr>\n",
              "  </tbody>\n",
              "</table>\n",
              "</div>"
            ],
            "text/plain": [
              "   price_USD  price_AMD\n",
              "0      13495    6545075\n",
              "1      16500    8002500\n",
              "2      16500    8002500\n",
              "3      13950    6765750\n",
              "4      17450    8463250"
            ]
          },
          "metadata": {
            "tags": []
          },
          "execution_count": 36
        }
      ]
    },
    {
      "cell_type": "code",
      "metadata": {
        "id": "FiNxsxhHIJES",
        "colab_type": "code",
        "outputId": "27c392df-dd64-4dcd-e2e8-e601d18b1c81",
        "colab": {
          "base_uri": "https://localhost:8080/",
          "height": 253
        }
      },
      "source": [
        "data.sort_values(by=\"price_USD\",ascending=False).head()"
      ],
      "execution_count": 0,
      "outputs": [
        {
          "output_type": "execute_result",
          "data": {
            "text/html": [
              "<div>\n",
              "<style scoped>\n",
              "    .dataframe tbody tr th:only-of-type {\n",
              "        vertical-align: middle;\n",
              "    }\n",
              "\n",
              "    .dataframe tbody tr th {\n",
              "        vertical-align: top;\n",
              "    }\n",
              "\n",
              "    .dataframe thead th {\n",
              "        text-align: right;\n",
              "    }\n",
              "</style>\n",
              "<table border=\"1\" class=\"dataframe\">\n",
              "  <thead>\n",
              "    <tr style=\"text-align: right;\">\n",
              "      <th></th>\n",
              "      <th>make</th>\n",
              "      <th>fuel_type</th>\n",
              "      <th>num_of_doors</th>\n",
              "      <th>body_style</th>\n",
              "      <th>drive_wheels</th>\n",
              "      <th>engine_location</th>\n",
              "      <th>wheel_base</th>\n",
              "      <th>length</th>\n",
              "      <th>width</th>\n",
              "      <th>height</th>\n",
              "      <th>curb_weight</th>\n",
              "      <th>engine_type</th>\n",
              "      <th>num_of_cylinders</th>\n",
              "      <th>engine_size</th>\n",
              "      <th>fuel_system</th>\n",
              "      <th>bore</th>\n",
              "      <th>stroke</th>\n",
              "      <th>compression_ratio</th>\n",
              "      <th>horsepower</th>\n",
              "      <th>peak_rpm</th>\n",
              "      <th>city_mpg</th>\n",
              "      <th>highway_mpg</th>\n",
              "      <th>price_USD</th>\n",
              "      <th>price_AMD</th>\n",
              "    </tr>\n",
              "  </thead>\n",
              "  <tbody>\n",
              "    <tr>\n",
              "      <th>65</th>\n",
              "      <td>mercedes-benz</td>\n",
              "      <td>gas</td>\n",
              "      <td>two</td>\n",
              "      <td>hardtop</td>\n",
              "      <td>rwd</td>\n",
              "      <td>front</td>\n",
              "      <td>112.0</td>\n",
              "      <td>199.2</td>\n",
              "      <td>72.0</td>\n",
              "      <td>55.4</td>\n",
              "      <td>3715</td>\n",
              "      <td>ohcv</td>\n",
              "      <td>eight</td>\n",
              "      <td>304</td>\n",
              "      <td>mpfi</td>\n",
              "      <td>3.80</td>\n",
              "      <td>3.35</td>\n",
              "      <td>8.0</td>\n",
              "      <td>184</td>\n",
              "      <td>4500</td>\n",
              "      <td>14</td>\n",
              "      <td>16</td>\n",
              "      <td>45400</td>\n",
              "      <td>22019000</td>\n",
              "    </tr>\n",
              "    <tr>\n",
              "      <th>15</th>\n",
              "      <td>bmw</td>\n",
              "      <td>gas</td>\n",
              "      <td>two</td>\n",
              "      <td>sedan</td>\n",
              "      <td>rwd</td>\n",
              "      <td>front</td>\n",
              "      <td>103.5</td>\n",
              "      <td>193.8</td>\n",
              "      <td>67.9</td>\n",
              "      <td>53.7</td>\n",
              "      <td>3380</td>\n",
              "      <td>ohc</td>\n",
              "      <td>six</td>\n",
              "      <td>209</td>\n",
              "      <td>mpfi</td>\n",
              "      <td>3.62</td>\n",
              "      <td>3.39</td>\n",
              "      <td>8.0</td>\n",
              "      <td>182</td>\n",
              "      <td>5400</td>\n",
              "      <td>16</td>\n",
              "      <td>22</td>\n",
              "      <td>41315</td>\n",
              "      <td>20037775</td>\n",
              "    </tr>\n",
              "    <tr>\n",
              "      <th>64</th>\n",
              "      <td>mercedes-benz</td>\n",
              "      <td>gas</td>\n",
              "      <td>four</td>\n",
              "      <td>sedan</td>\n",
              "      <td>rwd</td>\n",
              "      <td>front</td>\n",
              "      <td>120.9</td>\n",
              "      <td>208.1</td>\n",
              "      <td>71.7</td>\n",
              "      <td>56.7</td>\n",
              "      <td>3900</td>\n",
              "      <td>ohcv</td>\n",
              "      <td>eight</td>\n",
              "      <td>308</td>\n",
              "      <td>mpfi</td>\n",
              "      <td>3.80</td>\n",
              "      <td>3.35</td>\n",
              "      <td>8.0</td>\n",
              "      <td>184</td>\n",
              "      <td>4500</td>\n",
              "      <td>14</td>\n",
              "      <td>16</td>\n",
              "      <td>40960</td>\n",
              "      <td>19865600</td>\n",
              "    </tr>\n",
              "    <tr>\n",
              "      <th>119</th>\n",
              "      <td>porsche</td>\n",
              "      <td>gas</td>\n",
              "      <td>two</td>\n",
              "      <td>convertible</td>\n",
              "      <td>rwd</td>\n",
              "      <td>rear</td>\n",
              "      <td>89.5</td>\n",
              "      <td>168.9</td>\n",
              "      <td>65.0</td>\n",
              "      <td>51.6</td>\n",
              "      <td>2800</td>\n",
              "      <td>ohcf</td>\n",
              "      <td>six</td>\n",
              "      <td>194</td>\n",
              "      <td>mpfi</td>\n",
              "      <td>3.74</td>\n",
              "      <td>2.90</td>\n",
              "      <td>9.5</td>\n",
              "      <td>207</td>\n",
              "      <td>5900</td>\n",
              "      <td>17</td>\n",
              "      <td>25</td>\n",
              "      <td>37028</td>\n",
              "      <td>17958580</td>\n",
              "    </tr>\n",
              "    <tr>\n",
              "      <th>16</th>\n",
              "      <td>bmw</td>\n",
              "      <td>gas</td>\n",
              "      <td>four</td>\n",
              "      <td>sedan</td>\n",
              "      <td>rwd</td>\n",
              "      <td>front</td>\n",
              "      <td>110.0</td>\n",
              "      <td>197.0</td>\n",
              "      <td>70.9</td>\n",
              "      <td>56.3</td>\n",
              "      <td>3505</td>\n",
              "      <td>ohc</td>\n",
              "      <td>six</td>\n",
              "      <td>209</td>\n",
              "      <td>mpfi</td>\n",
              "      <td>3.62</td>\n",
              "      <td>3.39</td>\n",
              "      <td>8.0</td>\n",
              "      <td>182</td>\n",
              "      <td>5400</td>\n",
              "      <td>15</td>\n",
              "      <td>20</td>\n",
              "      <td>36880</td>\n",
              "      <td>17886800</td>\n",
              "    </tr>\n",
              "  </tbody>\n",
              "</table>\n",
              "</div>"
            ],
            "text/plain": [
              "              make fuel_type num_of_doors  ... highway_mpg price_USD price_AMD\n",
              "65   mercedes-benz       gas          two  ...          16     45400  22019000\n",
              "15             bmw       gas          two  ...          22     41315  20037775\n",
              "64   mercedes-benz       gas         four  ...          16     40960  19865600\n",
              "119        porsche       gas          two  ...          25     37028  17958580\n",
              "16             bmw       gas         four  ...          20     36880  17886800\n",
              "\n",
              "[5 rows x 24 columns]"
            ]
          },
          "metadata": {
            "tags": []
          },
          "execution_count": 37
        }
      ]
    },
    {
      "cell_type": "code",
      "metadata": {
        "id": "iJnhPRqK4vQM",
        "colab_type": "code",
        "outputId": "59e5d9d1-7e0c-4b50-ef1a-429c2718ccf4",
        "colab": {
          "base_uri": "https://localhost:8080/",
          "height": 198
        }
      },
      "source": [
        "pd.get_dummies(data.make,drop_first=True).head()"
      ],
      "execution_count": 0,
      "outputs": [
        {
          "output_type": "execute_result",
          "data": {
            "text/html": [
              "<div>\n",
              "<style scoped>\n",
              "    .dataframe tbody tr th:only-of-type {\n",
              "        vertical-align: middle;\n",
              "    }\n",
              "\n",
              "    .dataframe tbody tr th {\n",
              "        vertical-align: top;\n",
              "    }\n",
              "\n",
              "    .dataframe thead th {\n",
              "        text-align: right;\n",
              "    }\n",
              "</style>\n",
              "<table border=\"1\" class=\"dataframe\">\n",
              "  <thead>\n",
              "    <tr style=\"text-align: right;\">\n",
              "      <th></th>\n",
              "      <th>audi</th>\n",
              "      <th>bmw</th>\n",
              "      <th>chevrolet</th>\n",
              "      <th>dodge</th>\n",
              "      <th>honda</th>\n",
              "      <th>isuzu</th>\n",
              "      <th>jaguar</th>\n",
              "      <th>mazda</th>\n",
              "      <th>mercedes-benz</th>\n",
              "      <th>mercury</th>\n",
              "      <th>mitsubishi</th>\n",
              "      <th>nissan</th>\n",
              "      <th>peugot</th>\n",
              "      <th>plymouth</th>\n",
              "      <th>porsche</th>\n",
              "      <th>saab</th>\n",
              "      <th>subaru</th>\n",
              "      <th>toyota</th>\n",
              "      <th>volkswagen</th>\n",
              "      <th>volvo</th>\n",
              "    </tr>\n",
              "  </thead>\n",
              "  <tbody>\n",
              "    <tr>\n",
              "      <th>0</th>\n",
              "      <td>0</td>\n",
              "      <td>0</td>\n",
              "      <td>0</td>\n",
              "      <td>0</td>\n",
              "      <td>0</td>\n",
              "      <td>0</td>\n",
              "      <td>0</td>\n",
              "      <td>0</td>\n",
              "      <td>0</td>\n",
              "      <td>0</td>\n",
              "      <td>0</td>\n",
              "      <td>0</td>\n",
              "      <td>0</td>\n",
              "      <td>0</td>\n",
              "      <td>0</td>\n",
              "      <td>0</td>\n",
              "      <td>0</td>\n",
              "      <td>0</td>\n",
              "      <td>0</td>\n",
              "      <td>0</td>\n",
              "    </tr>\n",
              "    <tr>\n",
              "      <th>1</th>\n",
              "      <td>0</td>\n",
              "      <td>0</td>\n",
              "      <td>0</td>\n",
              "      <td>0</td>\n",
              "      <td>0</td>\n",
              "      <td>0</td>\n",
              "      <td>0</td>\n",
              "      <td>0</td>\n",
              "      <td>0</td>\n",
              "      <td>0</td>\n",
              "      <td>0</td>\n",
              "      <td>0</td>\n",
              "      <td>0</td>\n",
              "      <td>0</td>\n",
              "      <td>0</td>\n",
              "      <td>0</td>\n",
              "      <td>0</td>\n",
              "      <td>0</td>\n",
              "      <td>0</td>\n",
              "      <td>0</td>\n",
              "    </tr>\n",
              "    <tr>\n",
              "      <th>2</th>\n",
              "      <td>0</td>\n",
              "      <td>0</td>\n",
              "      <td>0</td>\n",
              "      <td>0</td>\n",
              "      <td>0</td>\n",
              "      <td>0</td>\n",
              "      <td>0</td>\n",
              "      <td>0</td>\n",
              "      <td>0</td>\n",
              "      <td>0</td>\n",
              "      <td>0</td>\n",
              "      <td>0</td>\n",
              "      <td>0</td>\n",
              "      <td>0</td>\n",
              "      <td>0</td>\n",
              "      <td>0</td>\n",
              "      <td>0</td>\n",
              "      <td>0</td>\n",
              "      <td>0</td>\n",
              "      <td>0</td>\n",
              "    </tr>\n",
              "    <tr>\n",
              "      <th>3</th>\n",
              "      <td>1</td>\n",
              "      <td>0</td>\n",
              "      <td>0</td>\n",
              "      <td>0</td>\n",
              "      <td>0</td>\n",
              "      <td>0</td>\n",
              "      <td>0</td>\n",
              "      <td>0</td>\n",
              "      <td>0</td>\n",
              "      <td>0</td>\n",
              "      <td>0</td>\n",
              "      <td>0</td>\n",
              "      <td>0</td>\n",
              "      <td>0</td>\n",
              "      <td>0</td>\n",
              "      <td>0</td>\n",
              "      <td>0</td>\n",
              "      <td>0</td>\n",
              "      <td>0</td>\n",
              "      <td>0</td>\n",
              "    </tr>\n",
              "    <tr>\n",
              "      <th>4</th>\n",
              "      <td>1</td>\n",
              "      <td>0</td>\n",
              "      <td>0</td>\n",
              "      <td>0</td>\n",
              "      <td>0</td>\n",
              "      <td>0</td>\n",
              "      <td>0</td>\n",
              "      <td>0</td>\n",
              "      <td>0</td>\n",
              "      <td>0</td>\n",
              "      <td>0</td>\n",
              "      <td>0</td>\n",
              "      <td>0</td>\n",
              "      <td>0</td>\n",
              "      <td>0</td>\n",
              "      <td>0</td>\n",
              "      <td>0</td>\n",
              "      <td>0</td>\n",
              "      <td>0</td>\n",
              "      <td>0</td>\n",
              "    </tr>\n",
              "  </tbody>\n",
              "</table>\n",
              "</div>"
            ],
            "text/plain": [
              "   audi  bmw  chevrolet  dodge  honda  ...  saab  subaru  toyota  volkswagen  volvo\n",
              "0     0    0          0      0      0  ...     0       0       0           0      0\n",
              "1     0    0          0      0      0  ...     0       0       0           0      0\n",
              "2     0    0          0      0      0  ...     0       0       0           0      0\n",
              "3     1    0          0      0      0  ...     0       0       0           0      0\n",
              "4     1    0          0      0      0  ...     0       0       0           0      0\n",
              "\n",
              "[5 rows x 20 columns]"
            ]
          },
          "metadata": {
            "tags": []
          },
          "execution_count": 38
        }
      ]
    },
    {
      "cell_type": "code",
      "metadata": {
        "id": "wzYtfR6pHc1X",
        "colab_type": "code",
        "outputId": "837f6931-d07e-4952-885a-e79228e2b669",
        "colab": {
          "base_uri": "https://localhost:8080/",
          "height": 708
        }
      },
      "source": [
        "data.groupby([\"make\"]).mean()"
      ],
      "execution_count": 0,
      "outputs": [
        {
          "output_type": "execute_result",
          "data": {
            "text/html": [
              "<div>\n",
              "<style scoped>\n",
              "    .dataframe tbody tr th:only-of-type {\n",
              "        vertical-align: middle;\n",
              "    }\n",
              "\n",
              "    .dataframe tbody tr th {\n",
              "        vertical-align: top;\n",
              "    }\n",
              "\n",
              "    .dataframe thead th {\n",
              "        text-align: right;\n",
              "    }\n",
              "</style>\n",
              "<table border=\"1\" class=\"dataframe\">\n",
              "  <thead>\n",
              "    <tr style=\"text-align: right;\">\n",
              "      <th></th>\n",
              "      <th>wheel_base</th>\n",
              "      <th>length</th>\n",
              "      <th>width</th>\n",
              "      <th>height</th>\n",
              "      <th>curb_weight</th>\n",
              "      <th>engine_size</th>\n",
              "      <th>bore</th>\n",
              "      <th>stroke</th>\n",
              "      <th>compression_ratio</th>\n",
              "      <th>horsepower</th>\n",
              "      <th>peak_rpm</th>\n",
              "      <th>city_mpg</th>\n",
              "      <th>highway_mpg</th>\n",
              "      <th>price_USD</th>\n",
              "      <th>price_AMD</th>\n",
              "    </tr>\n",
              "    <tr>\n",
              "      <th>make</th>\n",
              "      <th></th>\n",
              "      <th></th>\n",
              "      <th></th>\n",
              "      <th></th>\n",
              "      <th></th>\n",
              "      <th></th>\n",
              "      <th></th>\n",
              "      <th></th>\n",
              "      <th></th>\n",
              "      <th></th>\n",
              "      <th></th>\n",
              "      <th></th>\n",
              "      <th></th>\n",
              "      <th></th>\n",
              "      <th></th>\n",
              "    </tr>\n",
              "  </thead>\n",
              "  <tbody>\n",
              "    <tr>\n",
              "      <th>alfa-romero</th>\n",
              "      <td>90.566667</td>\n",
              "      <td>169.600000</td>\n",
              "      <td>64.566667</td>\n",
              "      <td>50.000000</td>\n",
              "      <td>2639.666667</td>\n",
              "      <td>137.333333</td>\n",
              "      <td>3.206667</td>\n",
              "      <td>2.943333</td>\n",
              "      <td>9.000000</td>\n",
              "      <td>125.333333</td>\n",
              "      <td>5000.000000</td>\n",
              "      <td>20.333333</td>\n",
              "      <td>26.666667</td>\n",
              "      <td>15498.333333</td>\n",
              "      <td>7.516692e+06</td>\n",
              "    </tr>\n",
              "    <tr>\n",
              "      <th>audi</th>\n",
              "      <td>102.733333</td>\n",
              "      <td>184.766667</td>\n",
              "      <td>68.850000</td>\n",
              "      <td>54.833333</td>\n",
              "      <td>2758.666667</td>\n",
              "      <td>130.666667</td>\n",
              "      <td>3.180000</td>\n",
              "      <td>3.400000</td>\n",
              "      <td>8.633333</td>\n",
              "      <td>114.500000</td>\n",
              "      <td>5500.000000</td>\n",
              "      <td>19.333333</td>\n",
              "      <td>24.500000</td>\n",
              "      <td>17859.166667</td>\n",
              "      <td>8.661696e+06</td>\n",
              "    </tr>\n",
              "    <tr>\n",
              "      <th>bmw</th>\n",
              "      <td>103.162500</td>\n",
              "      <td>184.500000</td>\n",
              "      <td>66.475000</td>\n",
              "      <td>54.825000</td>\n",
              "      <td>2929.375000</td>\n",
              "      <td>166.875000</td>\n",
              "      <td>3.473750</td>\n",
              "      <td>3.167500</td>\n",
              "      <td>8.575000</td>\n",
              "      <td>138.875000</td>\n",
              "      <td>5068.750000</td>\n",
              "      <td>19.375000</td>\n",
              "      <td>25.375000</td>\n",
              "      <td>26118.750000</td>\n",
              "      <td>1.266759e+07</td>\n",
              "    </tr>\n",
              "    <tr>\n",
              "      <th>chevrolet</th>\n",
              "      <td>92.466667</td>\n",
              "      <td>151.933333</td>\n",
              "      <td>62.500000</td>\n",
              "      <td>52.400000</td>\n",
              "      <td>1757.000000</td>\n",
              "      <td>80.333333</td>\n",
              "      <td>2.990000</td>\n",
              "      <td>3.083333</td>\n",
              "      <td>9.566667</td>\n",
              "      <td>62.666667</td>\n",
              "      <td>5300.000000</td>\n",
              "      <td>41.000000</td>\n",
              "      <td>46.333333</td>\n",
              "      <td>6007.000000</td>\n",
              "      <td>2.913395e+06</td>\n",
              "    </tr>\n",
              "    <tr>\n",
              "      <th>dodge</th>\n",
              "      <td>95.175000</td>\n",
              "      <td>161.450000</td>\n",
              "      <td>64.212500</td>\n",
              "      <td>51.775000</td>\n",
              "      <td>2146.375000</td>\n",
              "      <td>103.250000</td>\n",
              "      <td>3.102500</td>\n",
              "      <td>3.362500</td>\n",
              "      <td>8.763750</td>\n",
              "      <td>84.375000</td>\n",
              "      <td>5375.000000</td>\n",
              "      <td>28.500000</td>\n",
              "      <td>34.625000</td>\n",
              "      <td>7790.125000</td>\n",
              "      <td>3.778211e+06</td>\n",
              "    </tr>\n",
              "    <tr>\n",
              "      <th>honda</th>\n",
              "      <td>94.330769</td>\n",
              "      <td>160.769231</td>\n",
              "      <td>64.384615</td>\n",
              "      <td>53.238462</td>\n",
              "      <td>2096.769231</td>\n",
              "      <td>99.307692</td>\n",
              "      <td>3.021538</td>\n",
              "      <td>3.462308</td>\n",
              "      <td>9.215385</td>\n",
              "      <td>80.230769</td>\n",
              "      <td>5753.846154</td>\n",
              "      <td>30.384615</td>\n",
              "      <td>35.461538</td>\n",
              "      <td>8184.692308</td>\n",
              "      <td>3.969576e+06</td>\n",
              "    </tr>\n",
              "    <tr>\n",
              "      <th>isuzu</th>\n",
              "      <td>95.150000</td>\n",
              "      <td>171.650000</td>\n",
              "      <td>63.500000</td>\n",
              "      <td>52.450000</td>\n",
              "      <td>2535.500000</td>\n",
              "      <td>115.000000</td>\n",
              "      <td>3.370000</td>\n",
              "      <td>3.230000</td>\n",
              "      <td>8.850000</td>\n",
              "      <td>84.000000</td>\n",
              "      <td>4900.000000</td>\n",
              "      <td>24.000000</td>\n",
              "      <td>29.000000</td>\n",
              "      <td>8916.500000</td>\n",
              "      <td>4.324502e+06</td>\n",
              "    </tr>\n",
              "    <tr>\n",
              "      <th>jaguar</th>\n",
              "      <td>109.333333</td>\n",
              "      <td>196.966667</td>\n",
              "      <td>69.933333</td>\n",
              "      <td>51.133333</td>\n",
              "      <td>4027.333333</td>\n",
              "      <td>280.666667</td>\n",
              "      <td>3.600000</td>\n",
              "      <td>3.700000</td>\n",
              "      <td>9.233333</td>\n",
              "      <td>204.666667</td>\n",
              "      <td>4833.333333</td>\n",
              "      <td>14.333333</td>\n",
              "      <td>18.333333</td>\n",
              "      <td>34600.000000</td>\n",
              "      <td>1.678100e+07</td>\n",
              "    </tr>\n",
              "    <tr>\n",
              "      <th>mazda</th>\n",
              "      <td>97.441667</td>\n",
              "      <td>170.825000</td>\n",
              "      <td>65.475000</td>\n",
              "      <td>54.433333</td>\n",
              "      <td>2247.916667</td>\n",
              "      <td>111.583333</td>\n",
              "      <td>3.278333</td>\n",
              "      <td>3.291667</td>\n",
              "      <td>9.833333</td>\n",
              "      <td>79.333333</td>\n",
              "      <td>4850.000000</td>\n",
              "      <td>27.833333</td>\n",
              "      <td>34.083333</td>\n",
              "      <td>9852.000000</td>\n",
              "      <td>4.778220e+06</td>\n",
              "    </tr>\n",
              "    <tr>\n",
              "      <th>mercedes-benz</th>\n",
              "      <td>110.925000</td>\n",
              "      <td>195.262500</td>\n",
              "      <td>71.062500</td>\n",
              "      <td>55.725000</td>\n",
              "      <td>3696.250000</td>\n",
              "      <td>226.500000</td>\n",
              "      <td>3.605000</td>\n",
              "      <td>3.432500</td>\n",
              "      <td>14.825000</td>\n",
              "      <td>146.250000</td>\n",
              "      <td>4487.500000</td>\n",
              "      <td>18.500000</td>\n",
              "      <td>21.000000</td>\n",
              "      <td>33647.000000</td>\n",
              "      <td>1.631880e+07</td>\n",
              "    </tr>\n",
              "    <tr>\n",
              "      <th>mercury</th>\n",
              "      <td>102.700000</td>\n",
              "      <td>178.400000</td>\n",
              "      <td>68.000000</td>\n",
              "      <td>54.800000</td>\n",
              "      <td>2910.000000</td>\n",
              "      <td>140.000000</td>\n",
              "      <td>3.780000</td>\n",
              "      <td>3.120000</td>\n",
              "      <td>8.000000</td>\n",
              "      <td>175.000000</td>\n",
              "      <td>5000.000000</td>\n",
              "      <td>19.000000</td>\n",
              "      <td>24.000000</td>\n",
              "      <td>16503.000000</td>\n",
              "      <td>8.003955e+06</td>\n",
              "    </tr>\n",
              "    <tr>\n",
              "      <th>mitsubishi</th>\n",
              "      <td>95.353846</td>\n",
              "      <td>168.030769</td>\n",
              "      <td>65.253846</td>\n",
              "      <td>50.692308</td>\n",
              "      <td>2381.923077</td>\n",
              "      <td>118.307692</td>\n",
              "      <td>3.250769</td>\n",
              "      <td>3.493846</td>\n",
              "      <td>8.061538</td>\n",
              "      <td>104.076923</td>\n",
              "      <td>5269.230769</td>\n",
              "      <td>24.923077</td>\n",
              "      <td>31.153846</td>\n",
              "      <td>9239.769231</td>\n",
              "      <td>4.481288e+06</td>\n",
              "    </tr>\n",
              "    <tr>\n",
              "      <th>nissan</th>\n",
              "      <td>95.722222</td>\n",
              "      <td>170.988889</td>\n",
              "      <td>65.088889</td>\n",
              "      <td>53.633333</td>\n",
              "      <td>2400.388889</td>\n",
              "      <td>127.888889</td>\n",
              "      <td>3.254444</td>\n",
              "      <td>3.313333</td>\n",
              "      <td>9.794444</td>\n",
              "      <td>102.555556</td>\n",
              "      <td>5177.777778</td>\n",
              "      <td>27.000000</td>\n",
              "      <td>32.944444</td>\n",
              "      <td>10415.666667</td>\n",
              "      <td>5.051598e+06</td>\n",
              "    </tr>\n",
              "    <tr>\n",
              "      <th>peugot</th>\n",
              "      <td>110.200000</td>\n",
              "      <td>191.136364</td>\n",
              "      <td>68.390909</td>\n",
              "      <td>57.181818</td>\n",
              "      <td>3221.000000</td>\n",
              "      <td>135.818182</td>\n",
              "      <td>3.582727</td>\n",
              "      <td>3.160000</td>\n",
              "      <td>14.000000</td>\n",
              "      <td>99.818182</td>\n",
              "      <td>4668.181818</td>\n",
              "      <td>22.454545</td>\n",
              "      <td>26.636364</td>\n",
              "      <td>15489.090909</td>\n",
              "      <td>7.512209e+06</td>\n",
              "    </tr>\n",
              "    <tr>\n",
              "      <th>plymouth</th>\n",
              "      <td>95.385714</td>\n",
              "      <td>164.900000</td>\n",
              "      <td>64.271429</td>\n",
              "      <td>51.971429</td>\n",
              "      <td>2220.857143</td>\n",
              "      <td>106.285714</td>\n",
              "      <td>3.121429</td>\n",
              "      <td>3.375714</td>\n",
              "      <td>8.671429</td>\n",
              "      <td>86.714286</td>\n",
              "      <td>5357.142857</td>\n",
              "      <td>28.142857</td>\n",
              "      <td>34.142857</td>\n",
              "      <td>7963.428571</td>\n",
              "      <td>3.862263e+06</td>\n",
              "    </tr>\n",
              "    <tr>\n",
              "      <th>porsche</th>\n",
              "      <td>90.750000</td>\n",
              "      <td>168.900000</td>\n",
              "      <td>65.825000</td>\n",
              "      <td>51.250000</td>\n",
              "      <td>2772.500000</td>\n",
              "      <td>183.250000</td>\n",
              "      <td>3.790000</td>\n",
              "      <td>2.952500</td>\n",
              "      <td>9.500000</td>\n",
              "      <td>191.000000</td>\n",
              "      <td>5800.000000</td>\n",
              "      <td>17.500000</td>\n",
              "      <td>25.500000</td>\n",
              "      <td>31400.500000</td>\n",
              "      <td>1.522924e+07</td>\n",
              "    </tr>\n",
              "    <tr>\n",
              "      <th>saab</th>\n",
              "      <td>99.100000</td>\n",
              "      <td>186.600000</td>\n",
              "      <td>66.500000</td>\n",
              "      <td>56.100000</td>\n",
              "      <td>2745.500000</td>\n",
              "      <td>121.000000</td>\n",
              "      <td>3.373333</td>\n",
              "      <td>2.903333</td>\n",
              "      <td>9.201667</td>\n",
              "      <td>126.666667</td>\n",
              "      <td>5333.333333</td>\n",
              "      <td>20.333333</td>\n",
              "      <td>27.333333</td>\n",
              "      <td>15223.333333</td>\n",
              "      <td>7.383317e+06</td>\n",
              "    </tr>\n",
              "    <tr>\n",
              "      <th>subaru</th>\n",
              "      <td>96.175000</td>\n",
              "      <td>168.858333</td>\n",
              "      <td>64.950000</td>\n",
              "      <td>53.750000</td>\n",
              "      <td>2316.250000</td>\n",
              "      <td>107.083333</td>\n",
              "      <td>3.620000</td>\n",
              "      <td>2.616667</td>\n",
              "      <td>8.816667</td>\n",
              "      <td>86.250000</td>\n",
              "      <td>4775.000000</td>\n",
              "      <td>26.333333</td>\n",
              "      <td>30.750000</td>\n",
              "      <td>8541.250000</td>\n",
              "      <td>4.142506e+06</td>\n",
              "    </tr>\n",
              "    <tr>\n",
              "      <th>toyota</th>\n",
              "      <td>98.103125</td>\n",
              "      <td>171.934375</td>\n",
              "      <td>65.090625</td>\n",
              "      <td>53.721875</td>\n",
              "      <td>2441.093750</td>\n",
              "      <td>118.812500</td>\n",
              "      <td>3.280000</td>\n",
              "      <td>3.255000</td>\n",
              "      <td>10.340625</td>\n",
              "      <td>92.781250</td>\n",
              "      <td>4859.375000</td>\n",
              "      <td>27.500000</td>\n",
              "      <td>32.906250</td>\n",
              "      <td>9885.812500</td>\n",
              "      <td>4.794619e+06</td>\n",
              "    </tr>\n",
              "    <tr>\n",
              "      <th>volkswagen</th>\n",
              "      <td>97.608333</td>\n",
              "      <td>172.533333</td>\n",
              "      <td>65.616667</td>\n",
              "      <td>55.183333</td>\n",
              "      <td>2343.166667</td>\n",
              "      <td>107.250000</td>\n",
              "      <td>3.130000</td>\n",
              "      <td>3.400000</td>\n",
              "      <td>13.625000</td>\n",
              "      <td>81.083333</td>\n",
              "      <td>5154.166667</td>\n",
              "      <td>28.583333</td>\n",
              "      <td>34.916667</td>\n",
              "      <td>10077.500000</td>\n",
              "      <td>4.887588e+06</td>\n",
              "    </tr>\n",
              "    <tr>\n",
              "      <th>volvo</th>\n",
              "      <td>106.481818</td>\n",
              "      <td>188.800000</td>\n",
              "      <td>67.963636</td>\n",
              "      <td>56.236364</td>\n",
              "      <td>3037.909091</td>\n",
              "      <td>142.272727</td>\n",
              "      <td>3.662727</td>\n",
              "      <td>3.147273</td>\n",
              "      <td>10.227273</td>\n",
              "      <td>128.000000</td>\n",
              "      <td>5290.909091</td>\n",
              "      <td>21.181818</td>\n",
              "      <td>25.818182</td>\n",
              "      <td>18063.181818</td>\n",
              "      <td>8.760643e+06</td>\n",
              "    </tr>\n",
              "  </tbody>\n",
              "</table>\n",
              "</div>"
            ],
            "text/plain": [
              "               wheel_base      length  ...     price_USD     price_AMD\n",
              "make                                   ...                            \n",
              "alfa-romero     90.566667  169.600000  ...  15498.333333  7.516692e+06\n",
              "audi           102.733333  184.766667  ...  17859.166667  8.661696e+06\n",
              "bmw            103.162500  184.500000  ...  26118.750000  1.266759e+07\n",
              "chevrolet       92.466667  151.933333  ...   6007.000000  2.913395e+06\n",
              "dodge           95.175000  161.450000  ...   7790.125000  3.778211e+06\n",
              "honda           94.330769  160.769231  ...   8184.692308  3.969576e+06\n",
              "isuzu           95.150000  171.650000  ...   8916.500000  4.324502e+06\n",
              "jaguar         109.333333  196.966667  ...  34600.000000  1.678100e+07\n",
              "mazda           97.441667  170.825000  ...   9852.000000  4.778220e+06\n",
              "mercedes-benz  110.925000  195.262500  ...  33647.000000  1.631880e+07\n",
              "mercury        102.700000  178.400000  ...  16503.000000  8.003955e+06\n",
              "mitsubishi      95.353846  168.030769  ...   9239.769231  4.481288e+06\n",
              "nissan          95.722222  170.988889  ...  10415.666667  5.051598e+06\n",
              "peugot         110.200000  191.136364  ...  15489.090909  7.512209e+06\n",
              "plymouth        95.385714  164.900000  ...   7963.428571  3.862263e+06\n",
              "porsche         90.750000  168.900000  ...  31400.500000  1.522924e+07\n",
              "saab            99.100000  186.600000  ...  15223.333333  7.383317e+06\n",
              "subaru          96.175000  168.858333  ...   8541.250000  4.142506e+06\n",
              "toyota          98.103125  171.934375  ...   9885.812500  4.794619e+06\n",
              "volkswagen      97.608333  172.533333  ...  10077.500000  4.887588e+06\n",
              "volvo          106.481818  188.800000  ...  18063.181818  8.760643e+06\n",
              "\n",
              "[21 rows x 15 columns]"
            ]
          },
          "metadata": {
            "tags": []
          },
          "execution_count": 39
        }
      ]
    },
    {
      "cell_type": "code",
      "metadata": {
        "id": "nLqoUmOzHcsX",
        "colab_type": "code",
        "outputId": "51210fad-223f-4de1-9b25-0c18bffc951e",
        "colab": {
          "base_uri": "https://localhost:8080/",
          "height": 228
        }
      },
      "source": [
        "pd.crosstab(index=data.make,columns=data.fuel_type).head()"
      ],
      "execution_count": 0,
      "outputs": [
        {
          "output_type": "execute_result",
          "data": {
            "text/html": [
              "<div>\n",
              "<style scoped>\n",
              "    .dataframe tbody tr th:only-of-type {\n",
              "        vertical-align: middle;\n",
              "    }\n",
              "\n",
              "    .dataframe tbody tr th {\n",
              "        vertical-align: top;\n",
              "    }\n",
              "\n",
              "    .dataframe thead th {\n",
              "        text-align: right;\n",
              "    }\n",
              "</style>\n",
              "<table border=\"1\" class=\"dataframe\">\n",
              "  <thead>\n",
              "    <tr style=\"text-align: right;\">\n",
              "      <th>fuel_type</th>\n",
              "      <th>diesel</th>\n",
              "      <th>gas</th>\n",
              "    </tr>\n",
              "    <tr>\n",
              "      <th>make</th>\n",
              "      <th></th>\n",
              "      <th></th>\n",
              "    </tr>\n",
              "  </thead>\n",
              "  <tbody>\n",
              "    <tr>\n",
              "      <th>alfa-romero</th>\n",
              "      <td>0</td>\n",
              "      <td>3</td>\n",
              "    </tr>\n",
              "    <tr>\n",
              "      <th>audi</th>\n",
              "      <td>0</td>\n",
              "      <td>6</td>\n",
              "    </tr>\n",
              "    <tr>\n",
              "      <th>bmw</th>\n",
              "      <td>0</td>\n",
              "      <td>8</td>\n",
              "    </tr>\n",
              "    <tr>\n",
              "      <th>chevrolet</th>\n",
              "      <td>0</td>\n",
              "      <td>3</td>\n",
              "    </tr>\n",
              "    <tr>\n",
              "      <th>dodge</th>\n",
              "      <td>0</td>\n",
              "      <td>8</td>\n",
              "    </tr>\n",
              "  </tbody>\n",
              "</table>\n",
              "</div>"
            ],
            "text/plain": [
              "fuel_type    diesel  gas\n",
              "make                    \n",
              "alfa-romero       0    3\n",
              "audi              0    6\n",
              "bmw               0    8\n",
              "chevrolet         0    3\n",
              "dodge             0    8"
            ]
          },
          "metadata": {
            "tags": []
          },
          "execution_count": 40
        }
      ]
    },
    {
      "cell_type": "code",
      "metadata": {
        "id": "3_oO5H-FIzWF",
        "colab_type": "code",
        "outputId": "485df72b-6f35-4cb9-b224-24018a8b1ac5",
        "colab": {
          "base_uri": "https://localhost:8080/",
          "height": 295
        }
      },
      "source": [
        "pd.pivot_table(data=data,index=\"make\",columns=\"fuel_type\").head()"
      ],
      "execution_count": 0,
      "outputs": [
        {
          "output_type": "execute_result",
          "data": {
            "text/html": [
              "<div>\n",
              "<style scoped>\n",
              "    .dataframe tbody tr th:only-of-type {\n",
              "        vertical-align: middle;\n",
              "    }\n",
              "\n",
              "    .dataframe tbody tr th {\n",
              "        vertical-align: top;\n",
              "    }\n",
              "\n",
              "    .dataframe thead tr th {\n",
              "        text-align: left;\n",
              "    }\n",
              "\n",
              "    .dataframe thead tr:last-of-type th {\n",
              "        text-align: right;\n",
              "    }\n",
              "</style>\n",
              "<table border=\"1\" class=\"dataframe\">\n",
              "  <thead>\n",
              "    <tr>\n",
              "      <th></th>\n",
              "      <th colspan=\"2\" halign=\"left\">bore</th>\n",
              "      <th colspan=\"2\" halign=\"left\">city_mpg</th>\n",
              "      <th colspan=\"2\" halign=\"left\">compression_ratio</th>\n",
              "      <th colspan=\"2\" halign=\"left\">curb_weight</th>\n",
              "      <th colspan=\"2\" halign=\"left\">engine_size</th>\n",
              "      <th colspan=\"2\" halign=\"left\">height</th>\n",
              "      <th colspan=\"2\" halign=\"left\">highway_mpg</th>\n",
              "      <th colspan=\"2\" halign=\"left\">horsepower</th>\n",
              "      <th colspan=\"2\" halign=\"left\">length</th>\n",
              "      <th colspan=\"2\" halign=\"left\">peak_rpm</th>\n",
              "      <th colspan=\"2\" halign=\"left\">price_AMD</th>\n",
              "      <th colspan=\"2\" halign=\"left\">price_USD</th>\n",
              "      <th colspan=\"2\" halign=\"left\">stroke</th>\n",
              "      <th colspan=\"2\" halign=\"left\">wheel_base</th>\n",
              "      <th colspan=\"2\" halign=\"left\">width</th>\n",
              "    </tr>\n",
              "    <tr>\n",
              "      <th>fuel_type</th>\n",
              "      <th>diesel</th>\n",
              "      <th>gas</th>\n",
              "      <th>diesel</th>\n",
              "      <th>gas</th>\n",
              "      <th>diesel</th>\n",
              "      <th>gas</th>\n",
              "      <th>diesel</th>\n",
              "      <th>gas</th>\n",
              "      <th>diesel</th>\n",
              "      <th>gas</th>\n",
              "      <th>diesel</th>\n",
              "      <th>gas</th>\n",
              "      <th>diesel</th>\n",
              "      <th>gas</th>\n",
              "      <th>diesel</th>\n",
              "      <th>gas</th>\n",
              "      <th>diesel</th>\n",
              "      <th>gas</th>\n",
              "      <th>diesel</th>\n",
              "      <th>gas</th>\n",
              "      <th>diesel</th>\n",
              "      <th>gas</th>\n",
              "      <th>diesel</th>\n",
              "      <th>gas</th>\n",
              "      <th>diesel</th>\n",
              "      <th>gas</th>\n",
              "      <th>diesel</th>\n",
              "      <th>gas</th>\n",
              "      <th>diesel</th>\n",
              "      <th>gas</th>\n",
              "    </tr>\n",
              "    <tr>\n",
              "      <th>make</th>\n",
              "      <th></th>\n",
              "      <th></th>\n",
              "      <th></th>\n",
              "      <th></th>\n",
              "      <th></th>\n",
              "      <th></th>\n",
              "      <th></th>\n",
              "      <th></th>\n",
              "      <th></th>\n",
              "      <th></th>\n",
              "      <th></th>\n",
              "      <th></th>\n",
              "      <th></th>\n",
              "      <th></th>\n",
              "      <th></th>\n",
              "      <th></th>\n",
              "      <th></th>\n",
              "      <th></th>\n",
              "      <th></th>\n",
              "      <th></th>\n",
              "      <th></th>\n",
              "      <th></th>\n",
              "      <th></th>\n",
              "      <th></th>\n",
              "      <th></th>\n",
              "      <th></th>\n",
              "      <th></th>\n",
              "      <th></th>\n",
              "      <th></th>\n",
              "      <th></th>\n",
              "    </tr>\n",
              "  </thead>\n",
              "  <tbody>\n",
              "    <tr>\n",
              "      <th>alfa-romero</th>\n",
              "      <td>NaN</td>\n",
              "      <td>3.206667</td>\n",
              "      <td>NaN</td>\n",
              "      <td>20.333333</td>\n",
              "      <td>NaN</td>\n",
              "      <td>9.000000</td>\n",
              "      <td>NaN</td>\n",
              "      <td>2639.666667</td>\n",
              "      <td>NaN</td>\n",
              "      <td>137.333333</td>\n",
              "      <td>NaN</td>\n",
              "      <td>50.000000</td>\n",
              "      <td>NaN</td>\n",
              "      <td>26.666667</td>\n",
              "      <td>NaN</td>\n",
              "      <td>125.333333</td>\n",
              "      <td>NaN</td>\n",
              "      <td>169.600000</td>\n",
              "      <td>NaN</td>\n",
              "      <td>5000.00</td>\n",
              "      <td>NaN</td>\n",
              "      <td>7.516692e+06</td>\n",
              "      <td>NaN</td>\n",
              "      <td>15498.333333</td>\n",
              "      <td>NaN</td>\n",
              "      <td>2.943333</td>\n",
              "      <td>NaN</td>\n",
              "      <td>90.566667</td>\n",
              "      <td>NaN</td>\n",
              "      <td>64.566667</td>\n",
              "    </tr>\n",
              "    <tr>\n",
              "      <th>audi</th>\n",
              "      <td>NaN</td>\n",
              "      <td>3.180000</td>\n",
              "      <td>NaN</td>\n",
              "      <td>19.333333</td>\n",
              "      <td>NaN</td>\n",
              "      <td>8.633333</td>\n",
              "      <td>NaN</td>\n",
              "      <td>2758.666667</td>\n",
              "      <td>NaN</td>\n",
              "      <td>130.666667</td>\n",
              "      <td>NaN</td>\n",
              "      <td>54.833333</td>\n",
              "      <td>NaN</td>\n",
              "      <td>24.500000</td>\n",
              "      <td>NaN</td>\n",
              "      <td>114.500000</td>\n",
              "      <td>NaN</td>\n",
              "      <td>184.766667</td>\n",
              "      <td>NaN</td>\n",
              "      <td>5500.00</td>\n",
              "      <td>NaN</td>\n",
              "      <td>8.661696e+06</td>\n",
              "      <td>NaN</td>\n",
              "      <td>17859.166667</td>\n",
              "      <td>NaN</td>\n",
              "      <td>3.400000</td>\n",
              "      <td>NaN</td>\n",
              "      <td>102.733333</td>\n",
              "      <td>NaN</td>\n",
              "      <td>68.850000</td>\n",
              "    </tr>\n",
              "    <tr>\n",
              "      <th>bmw</th>\n",
              "      <td>NaN</td>\n",
              "      <td>3.473750</td>\n",
              "      <td>NaN</td>\n",
              "      <td>19.375000</td>\n",
              "      <td>NaN</td>\n",
              "      <td>8.575000</td>\n",
              "      <td>NaN</td>\n",
              "      <td>2929.375000</td>\n",
              "      <td>NaN</td>\n",
              "      <td>166.875000</td>\n",
              "      <td>NaN</td>\n",
              "      <td>54.825000</td>\n",
              "      <td>NaN</td>\n",
              "      <td>25.375000</td>\n",
              "      <td>NaN</td>\n",
              "      <td>138.875000</td>\n",
              "      <td>NaN</td>\n",
              "      <td>184.500000</td>\n",
              "      <td>NaN</td>\n",
              "      <td>5068.75</td>\n",
              "      <td>NaN</td>\n",
              "      <td>1.266759e+07</td>\n",
              "      <td>NaN</td>\n",
              "      <td>26118.750000</td>\n",
              "      <td>NaN</td>\n",
              "      <td>3.167500</td>\n",
              "      <td>NaN</td>\n",
              "      <td>103.162500</td>\n",
              "      <td>NaN</td>\n",
              "      <td>66.475000</td>\n",
              "    </tr>\n",
              "    <tr>\n",
              "      <th>chevrolet</th>\n",
              "      <td>NaN</td>\n",
              "      <td>2.990000</td>\n",
              "      <td>NaN</td>\n",
              "      <td>41.000000</td>\n",
              "      <td>NaN</td>\n",
              "      <td>9.566667</td>\n",
              "      <td>NaN</td>\n",
              "      <td>1757.000000</td>\n",
              "      <td>NaN</td>\n",
              "      <td>80.333333</td>\n",
              "      <td>NaN</td>\n",
              "      <td>52.400000</td>\n",
              "      <td>NaN</td>\n",
              "      <td>46.333333</td>\n",
              "      <td>NaN</td>\n",
              "      <td>62.666667</td>\n",
              "      <td>NaN</td>\n",
              "      <td>151.933333</td>\n",
              "      <td>NaN</td>\n",
              "      <td>5300.00</td>\n",
              "      <td>NaN</td>\n",
              "      <td>2.913395e+06</td>\n",
              "      <td>NaN</td>\n",
              "      <td>6007.000000</td>\n",
              "      <td>NaN</td>\n",
              "      <td>3.083333</td>\n",
              "      <td>NaN</td>\n",
              "      <td>92.466667</td>\n",
              "      <td>NaN</td>\n",
              "      <td>62.500000</td>\n",
              "    </tr>\n",
              "    <tr>\n",
              "      <th>dodge</th>\n",
              "      <td>NaN</td>\n",
              "      <td>3.102500</td>\n",
              "      <td>NaN</td>\n",
              "      <td>28.500000</td>\n",
              "      <td>NaN</td>\n",
              "      <td>8.763750</td>\n",
              "      <td>NaN</td>\n",
              "      <td>2146.375000</td>\n",
              "      <td>NaN</td>\n",
              "      <td>103.250000</td>\n",
              "      <td>NaN</td>\n",
              "      <td>51.775000</td>\n",
              "      <td>NaN</td>\n",
              "      <td>34.625000</td>\n",
              "      <td>NaN</td>\n",
              "      <td>84.375000</td>\n",
              "      <td>NaN</td>\n",
              "      <td>161.450000</td>\n",
              "      <td>NaN</td>\n",
              "      <td>5375.00</td>\n",
              "      <td>NaN</td>\n",
              "      <td>3.778211e+06</td>\n",
              "      <td>NaN</td>\n",
              "      <td>7790.125000</td>\n",
              "      <td>NaN</td>\n",
              "      <td>3.362500</td>\n",
              "      <td>NaN</td>\n",
              "      <td>95.175000</td>\n",
              "      <td>NaN</td>\n",
              "      <td>64.212500</td>\n",
              "    </tr>\n",
              "  </tbody>\n",
              "</table>\n",
              "</div>"
            ],
            "text/plain": [
              "              bore           city_mpg  ...  wheel_base  width           \n",
              "fuel_type   diesel       gas   diesel  ...         gas diesel        gas\n",
              "make                                   ...                              \n",
              "alfa-romero    NaN  3.206667      NaN  ...   90.566667    NaN  64.566667\n",
              "audi           NaN  3.180000      NaN  ...  102.733333    NaN  68.850000\n",
              "bmw            NaN  3.473750      NaN  ...  103.162500    NaN  66.475000\n",
              "chevrolet      NaN  2.990000      NaN  ...   92.466667    NaN  62.500000\n",
              "dodge          NaN  3.102500      NaN  ...   95.175000    NaN  64.212500\n",
              "\n",
              "[5 rows x 30 columns]"
            ]
          },
          "metadata": {
            "tags": []
          },
          "execution_count": 41
        }
      ]
    },
    {
      "cell_type": "code",
      "metadata": {
        "id": "90vFfY2ZIk6Y",
        "colab_type": "code",
        "outputId": "91082a9a-3cd5-42b7-8b28-087ea482cacf",
        "colab": {
          "base_uri": "https://localhost:8080/",
          "height": 228
        }
      },
      "source": [
        "pd.pivot_table(data=data,index=\"make\",columns=\"fuel_type\",values=\"price_USD\",aggfunc=\"mean\").head()"
      ],
      "execution_count": 0,
      "outputs": [
        {
          "output_type": "execute_result",
          "data": {
            "text/html": [
              "<div>\n",
              "<style scoped>\n",
              "    .dataframe tbody tr th:only-of-type {\n",
              "        vertical-align: middle;\n",
              "    }\n",
              "\n",
              "    .dataframe tbody tr th {\n",
              "        vertical-align: top;\n",
              "    }\n",
              "\n",
              "    .dataframe thead th {\n",
              "        text-align: right;\n",
              "    }\n",
              "</style>\n",
              "<table border=\"1\" class=\"dataframe\">\n",
              "  <thead>\n",
              "    <tr style=\"text-align: right;\">\n",
              "      <th>fuel_type</th>\n",
              "      <th>diesel</th>\n",
              "      <th>gas</th>\n",
              "    </tr>\n",
              "    <tr>\n",
              "      <th>make</th>\n",
              "      <th></th>\n",
              "      <th></th>\n",
              "    </tr>\n",
              "  </thead>\n",
              "  <tbody>\n",
              "    <tr>\n",
              "      <th>alfa-romero</th>\n",
              "      <td>NaN</td>\n",
              "      <td>15498.333333</td>\n",
              "    </tr>\n",
              "    <tr>\n",
              "      <th>audi</th>\n",
              "      <td>NaN</td>\n",
              "      <td>17859.166667</td>\n",
              "    </tr>\n",
              "    <tr>\n",
              "      <th>bmw</th>\n",
              "      <td>NaN</td>\n",
              "      <td>26118.750000</td>\n",
              "    </tr>\n",
              "    <tr>\n",
              "      <th>chevrolet</th>\n",
              "      <td>NaN</td>\n",
              "      <td>6007.000000</td>\n",
              "    </tr>\n",
              "    <tr>\n",
              "      <th>dodge</th>\n",
              "      <td>NaN</td>\n",
              "      <td>7790.125000</td>\n",
              "    </tr>\n",
              "  </tbody>\n",
              "</table>\n",
              "</div>"
            ],
            "text/plain": [
              "fuel_type    diesel           gas\n",
              "make                             \n",
              "alfa-romero     NaN  15498.333333\n",
              "audi            NaN  17859.166667\n",
              "bmw             NaN  26118.750000\n",
              "chevrolet       NaN   6007.000000\n",
              "dodge           NaN   7790.125000"
            ]
          },
          "metadata": {
            "tags": []
          },
          "execution_count": 42
        }
      ]
    },
    {
      "cell_type": "markdown",
      "metadata": {
        "id": "vKcXKHtgvykh",
        "colab_type": "text"
      },
      "source": [
        "# Data Visualization with Matplotlib\n",
        "\n",
        "- [plt.figure(figsize=(8,6))]() - creates the figure istance allowing for customization of size (figsize in inches), figure color etc.\n",
        "- [plt.title()]() - provides a title for the figure\n",
        "- [plt.ylabel()]() - provides the label of Y axis\n",
        "- [plt.xlabel()]() - provides the label of X axis\n",
        "- [plt.show()]() - shows the figure\n",
        "- [plt.savefig()]() - saves the figure in a specified format and filename\n",
        "- [plt.hist()]() - draw a histogram\n",
        "- [plt.scatter()]() - draws a scatterplot\n",
        "- [plt.subplot()]() - create subplots (plt.subplot(nrows=1,ncolumns=2,index=1) and plt.subplot(nrows=1,ncolumns=2,index=2) will create 1 row and2 graphs)"
      ]
    },
    {
      "cell_type": "code",
      "metadata": {
        "id": "t-QuEsARvytS",
        "colab_type": "code",
        "outputId": "1aa4f661-6e3c-4367-83e5-54c1bfedc6aa",
        "colab": {
          "base_uri": "https://localhost:8080/",
          "height": 405
        }
      },
      "source": [
        "plt.figure(figsize=(8,6))\n",
        "plt.hist(data.price_USD)\n",
        "plt.title(\"Car Price Distribution\")\n",
        "plt.ylabel(\"Frequencies\")\n",
        "plt.xlabel(\"Price\")\n",
        "plt.show()"
      ],
      "execution_count": 0,
      "outputs": [
        {
          "output_type": "display_data",
          "data": {
            "image/png": "[encoded data removed]",
            "text/plain": [
              "<Figure size 576x432 with 1 Axes>"
            ]
          },
          "metadata": {
            "tags": []
          }
        }
      ]
    },
    {
      "cell_type": "code",
      "metadata": {
        "id": "h--xiS4dHCRy",
        "colab_type": "code",
        "outputId": "04d4b573-8799-483d-a0eb-f250e72bb6d9",
        "colab": {
          "base_uri": "https://localhost:8080/",
          "height": 295
        }
      },
      "source": [
        "plt.scatter(data.horsepower,data.price_USD)\n",
        "plt.title(\"Relationship between horsepower and price\")\n",
        "plt.xlabel(\"Horsepower\")\n",
        "plt.ylabel(\"Price\")\n",
        "plt.show()"
      ],
      "execution_count": 0,
      "outputs": [
        {
          "output_type": "display_data",
          "data": {
            "image/png": "[encoded data removed]",
            "text/plain": [
              "<Figure size 432x288 with 1 Axes>"
            ]
          },
          "metadata": {
            "tags": []
          }
        }
      ]
    },
    {
      "cell_type": "code",
      "metadata": {
        "id": "PTHt0TvNDp4k",
        "colab_type": "code",
        "outputId": "db9baa10-1497-45ce-a435-e289bc8721e0",
        "colab": {
          "base_uri": "https://localhost:8080/",
          "height": 405
        }
      },
      "source": [
        "plt.figure(figsize=(14,6))\n",
        "\n",
        "plt.subplot(1,2,1)\n",
        "plt.hist(data.price_USD)\n",
        "plt.title(\"Car Price Distribution\")\n",
        "plt.ylabel(\"Frequencies\")\n",
        "plt.xlabel(\"Price\")\n",
        "\n",
        "plt.subplot(1,2,2)\n",
        "plt.scatter(data.horsepower,data.price_USD)\n",
        "plt.title(\"Relationship between horsepower and price\")\n",
        "plt.xlabel(\"Horsepower\")\n",
        "plt.ylabel(\"Price\")\n",
        "plt.show()"
      ],
      "execution_count": 0,
      "outputs": [
        {
          "output_type": "display_data",
          "data": {
            "image/png": "[encoded data removed]",
            "text/plain": [
              "<Figure size 1008x432 with 2 Axes>"
            ]
          },
          "metadata": {
            "tags": []
          }
        }
      ]
    },
    {
      "cell_type": "markdown",
      "metadata": {
        "id": "yCr7L0zpvy2s",
        "colab_type": "text"
      },
      "source": [
        "# Data Visualization with Seabron\n",
        "\n",
        "- [sns.distplot()](https://seaborn.pydata.org/generated/seaborn.distplot.html) -provides the univariate distribution plot (histogram and and a line plot) for a given variable\n",
        "- [sns.heatmap()](https://seaborn.pydata.org/generated/seaborn.heatmap.html) - creates a heatmap out of the input matrix"
      ]
    },
    {
      "cell_type": "code",
      "metadata": {
        "id": "kjD5iUu_vzBu",
        "colab_type": "code",
        "outputId": "2cefa29b-d3fe-4c6f-ecd7-2efc288fb6ce",
        "colab": {
          "base_uri": "https://localhost:8080/",
          "height": 285
        }
      },
      "source": [
        "sns.distplot(data.price_USD)\n",
        "plt.show()"
      ],
      "execution_count": 0,
      "outputs": [
        {
          "output_type": "display_data",
          "data": {
            "image/png": "[encoded data removed]",
            "text/plain": [
              "<Figure size 432x288 with 1 Axes>"
            ]
          },
          "metadata": {
            "tags": []
          }
        }
      ]
    },
    {
      "cell_type": "code",
      "metadata": {
        "id": "NYpw-i88Qweo",
        "colab_type": "code",
        "outputId": "f1b24dc0-c2c8-4889-c391-c27dd368e9af",
        "colab": {
          "base_uri": "https://localhost:8080/",
          "height": 350
        }
      },
      "source": [
        "sns.heatmap(data.corr())\n",
        "plt.show()"
      ],
      "execution_count": 0,
      "outputs": [
        {
          "output_type": "display_data",
          "data": {
            "image/png": "[encoded data removed]",
            "text/plain": [
              "<Figure size 432x288 with 2 Axes>"
            ]
          },
          "metadata": {
            "tags": []
          }
        }
      ]
    },
    {
      "cell_type": "markdown",
      "metadata": {
        "id": "mY3w49gSQwsy",
        "colab_type": "text"
      },
      "source": [
        "# NumPy\n",
        "- [sqrt()]() - calculate square toor of an integer\n",
        "- [np.array()]() - create a numpy array (one dimensional or multidimensional)\n",
        "- [np.zeros()]() - create a numpy array/matrix with all values = 0\n",
        "- [np.ones()]() - create a numpy array/matrix with all values = 1\n",
        "- [np.full()]() - create a numpy array/matrix with all values = some prespecified value\n",
        "- [np.eye()]() - create an identity matrix (all 0, diagonal 1)\n",
        "- [np.dot()]() - calculate dot product (matrix prodict)\n",
        "- [np.reshape()]() - reshape the matrix\n",
        "- [T]() - transpose the matrix"
      ]
    },
    {
      "cell_type": "code",
      "metadata": {
        "id": "jc1PtcZUQxRe",
        "colab_type": "code",
        "outputId": "6a6a8b70-ca83-4f95-e680-d22c4ae5a445",
        "colab": {
          "base_uri": "https://localhost:8080/",
          "height": 35
        }
      },
      "source": [
        "np.sqrt(25)"
      ],
      "execution_count": 0,
      "outputs": [
        {
          "output_type": "execute_result",
          "data": {
            "text/plain": [
              "5.0"
            ]
          },
          "metadata": {
            "tags": []
          },
          "execution_count": 50
        }
      ]
    },
    {
      "cell_type": "code",
      "metadata": {
        "id": "kWig_QbtZ-XO",
        "colab_type": "code",
        "colab": {}
      },
      "source": [
        "numpy_array = np.array([1,2,3,4])"
      ],
      "execution_count": 0,
      "outputs": []
    },
    {
      "cell_type": "code",
      "metadata": {
        "id": "I1G5pdXRZ-aX",
        "colab_type": "code",
        "outputId": "419275bf-33c9-49f5-dd7f-fcf65e0435cb",
        "colab": {
          "base_uri": "https://localhost:8080/",
          "height": 35
        }
      },
      "source": [
        "print(numpy_array.shape)"
      ],
      "execution_count": 0,
      "outputs": [
        {
          "output_type": "stream",
          "text": [
            "(4,)\n"
          ],
          "name": "stdout"
        }
      ]
    },
    {
      "cell_type": "code",
      "metadata": {
        "id": "ngXydLzSbEyY",
        "colab_type": "code",
        "outputId": "56b147e1-61a7-4fe7-f2d8-ffd347fe1621",
        "colab": {
          "base_uri": "https://localhost:8080/",
          "height": 35
        }
      },
      "source": [
        "print(np.reshape(numpy_array,(1,4)))"
      ],
      "execution_count": 0,
      "outputs": [
        {
          "output_type": "stream",
          "text": [
            "[[1 2 3 4]]\n"
          ],
          "name": "stdout"
        }
      ]
    },
    {
      "cell_type": "code",
      "metadata": {
        "id": "oVuCS-nDZHEI",
        "colab_type": "code",
        "outputId": "64d0d01b-c6b7-47fc-f3f1-4a1ebf2f151b",
        "colab": {
          "base_uri": "https://localhost:8080/",
          "height": 54
        }
      },
      "source": [
        "np.zeros((2,2))"
      ],
      "execution_count": 0,
      "outputs": [
        {
          "output_type": "execute_result",
          "data": {
            "text/plain": [
              "array([[0., 0.],\n",
              "       [0., 0.]])"
            ]
          },
          "metadata": {
            "tags": []
          },
          "execution_count": 54
        }
      ]
    },
    {
      "cell_type": "code",
      "metadata": {
        "id": "fbjbtKFDZJcH",
        "colab_type": "code",
        "outputId": "2cb10872-7093-4a5d-e33e-59d60fc1fca2",
        "colab": {
          "base_uri": "https://localhost:8080/",
          "height": 72
        }
      },
      "source": [
        "np.ones((3,5))"
      ],
      "execution_count": 0,
      "outputs": [
        {
          "output_type": "execute_result",
          "data": {
            "text/plain": [
              "array([[1., 1., 1., 1., 1.],\n",
              "       [1., 1., 1., 1., 1.],\n",
              "       [1., 1., 1., 1., 1.]])"
            ]
          },
          "metadata": {
            "tags": []
          },
          "execution_count": 55
        }
      ]
    },
    {
      "cell_type": "code",
      "metadata": {
        "id": "mCZSxwSpZSIW",
        "colab_type": "code",
        "outputId": "c0f8a310-c336-478b-a624-f5837ac9ba8f",
        "colab": {
          "base_uri": "https://localhost:8080/",
          "height": 72
        }
      },
      "source": [
        "np.full((3,5),0)"
      ],
      "execution_count": 0,
      "outputs": [
        {
          "output_type": "execute_result",
          "data": {
            "text/plain": [
              "array([[0, 0, 0, 0, 0],\n",
              "       [0, 0, 0, 0, 0],\n",
              "       [0, 0, 0, 0, 0]])"
            ]
          },
          "metadata": {
            "tags": []
          },
          "execution_count": 56
        }
      ]
    },
    {
      "cell_type": "code",
      "metadata": {
        "id": "E6G_hDkpZYeX",
        "colab_type": "code",
        "outputId": "38abf1cc-090e-4440-cf18-235a5d3c2598",
        "colab": {
          "base_uri": "https://localhost:8080/",
          "height": 54
        }
      },
      "source": [
        "np.eye(2)"
      ],
      "execution_count": 0,
      "outputs": [
        {
          "output_type": "execute_result",
          "data": {
            "text/plain": [
              "array([[1., 0.],\n",
              "       [0., 1.]])"
            ]
          },
          "metadata": {
            "tags": []
          },
          "execution_count": 57
        }
      ]
    },
    {
      "cell_type": "code",
      "metadata": {
        "id": "lA6NsgArZo-p",
        "colab_type": "code",
        "outputId": "84c3d6d5-d3c7-4ff9-8aed-c7b931ff683a",
        "colab": {
          "base_uri": "https://localhost:8080/",
          "height": 54
        }
      },
      "source": [
        "md_array = np.array([[1,2],[3,4]])\n",
        "print(md_array)"
      ],
      "execution_count": 0,
      "outputs": [
        {
          "output_type": "stream",
          "text": [
            "[[1 2]\n",
            " [3 4]]\n"
          ],
          "name": "stdout"
        }
      ]
    },
    {
      "cell_type": "code",
      "metadata": {
        "id": "NSbw90HXZuN2",
        "colab_type": "code",
        "outputId": "3e05dae6-b190-4602-d534-623f0d0e262c",
        "colab": {
          "base_uri": "https://localhost:8080/",
          "height": 35
        }
      },
      "source": [
        "md_array[0][1]"
      ],
      "execution_count": 0,
      "outputs": [
        {
          "output_type": "execute_result",
          "data": {
            "text/plain": [
              "2"
            ]
          },
          "metadata": {
            "tags": []
          },
          "execution_count": 59
        }
      ]
    },
    {
      "cell_type": "code",
      "metadata": {
        "id": "AIPX7ppmaQxW",
        "colab_type": "code",
        "outputId": "32339e86-5200-4402-9bae-9c3270519fb0",
        "colab": {
          "base_uri": "https://localhost:8080/",
          "height": 54
        }
      },
      "source": [
        "md_array.T"
      ],
      "execution_count": 0,
      "outputs": [
        {
          "output_type": "execute_result",
          "data": {
            "text/plain": [
              "array([[1, 3],\n",
              "       [2, 4]])"
            ]
          },
          "metadata": {
            "tags": []
          },
          "execution_count": 60
        }
      ]
    },
    {
      "cell_type": "code",
      "metadata": {
        "id": "NvYXsgf-aSny",
        "colab_type": "code",
        "outputId": "20b43bae-a791-47ba-fcec-b89f3b62c92a",
        "colab": {
          "base_uri": "https://localhost:8080/",
          "height": 54
        }
      },
      "source": [
        "md_array*np.eye(2)\n",
        "#md_array/np.eye(2)\n",
        "#md_array+np.eye(2)\n",
        "#md_array-np.eye(2)\n"
      ],
      "execution_count": 0,
      "outputs": [
        {
          "output_type": "execute_result",
          "data": {
            "text/plain": [
              "array([[1., 0.],\n",
              "       [0., 4.]])"
            ]
          },
          "metadata": {
            "tags": []
          },
          "execution_count": 61
        }
      ]
    },
    {
      "cell_type": "code",
      "metadata": {
        "id": "lC94c6cRabLA",
        "colab_type": "code",
        "outputId": "5fa4b2ee-995c-46f8-d86e-1ac145c8ab1c",
        "colab": {
          "base_uri": "https://localhost:8080/",
          "height": 54
        }
      },
      "source": [
        "np.dot(md_array,np.eye(2))"
      ],
      "execution_count": 0,
      "outputs": [
        {
          "output_type": "execute_result",
          "data": {
            "text/plain": [
              "array([[1., 2.],\n",
              "       [3., 4.]])"
            ]
          },
          "metadata": {
            "tags": []
          },
          "execution_count": 62
        }
      ]
    },
    {
      "cell_type": "code",
      "metadata": {
        "id": "qNHYQR02apQD",
        "colab_type": "code",
        "outputId": "bab1a81d-8bbb-48b1-fbaa-c0851faeb88c",
        "colab": {
          "base_uri": "https://localhost:8080/",
          "height": 35
        }
      },
      "source": [
        "np.sum(md_array,axis=0)"
      ],
      "execution_count": 0,
      "outputs": [
        {
          "output_type": "execute_result",
          "data": {
            "text/plain": [
              "array([4, 6])"
            ]
          },
          "metadata": {
            "tags": []
          },
          "execution_count": 63
        }
      ]
    },
    {
      "cell_type": "code",
      "metadata": {
        "id": "XE9-ymZLa3Bq",
        "colab_type": "code",
        "outputId": "eccb7a31-c2a4-47f9-8dbf-907c65109a0e",
        "colab": {
          "base_uri": "https://localhost:8080/",
          "height": 90
        }
      },
      "source": [
        "np.reshape(md_array,(4,1))"
      ],
      "execution_count": 0,
      "outputs": [
        {
          "output_type": "execute_result",
          "data": {
            "text/plain": [
              "array([[1],\n",
              "       [2],\n",
              "       [3],\n",
              "       [4]])"
            ]
          },
          "metadata": {
            "tags": []
          },
          "execution_count": 64
        }
      ]
    },
    {
      "cell_type": "code",
      "metadata": {
        "id": "fK_hIEpD4vh_",
        "colab_type": "code",
        "colab": {}
      },
      "source": [
        ""
      ],
      "execution_count": 0,
      "outputs": []
    }
  ]
}